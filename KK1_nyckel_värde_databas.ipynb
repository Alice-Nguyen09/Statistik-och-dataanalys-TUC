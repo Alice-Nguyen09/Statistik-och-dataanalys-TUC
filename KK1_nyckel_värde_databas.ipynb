{
 "cells": [
  {
   "cell_type": "markdown",
   "metadata": {},
   "source": [
    "# Kunskapskontroll 1\n",
    "## Databastyper\n",
    "\n",
    "**OBS!** Alla uppgifter som inte står under rubriken **Väl godkänt** krävs för **Godkänt** på kunskapskontrollen.\n"
   ]
  },
  {
   "cell_type": "markdown",
   "metadata": {},
   "source": [
    "4. Beskriv kortfattat vad en dokumentdatabas är.\n"
   ]
  },
  {
   "cell_type": "markdown",
   "metadata": {},
   "source": [
    "1. Förklara övergripande vad NoSQL är.\n"
   ]
  },
  {
   "cell_type": "markdown",
   "metadata": {},
   "source": [
    "Svar:"
   ]
  },
  {
   "cell_type": "markdown",
   "metadata": {},
   "source": [
    "NoSQL står för not only SQL databas, vilket är ett databashanteringssystem som skiljer sig från den traditionella databas SQL genom att erbjuda mer flexibilitet och skalbarhet. NoSQL-databaser används ofta för att hantera stora datamängder, särskilt i distribuerade system och realtidsapplikationer.\n",
    "\n",
    "Det finns fyra typer av NoSQL. \n",
    "- Dokumentorienterade databaser – Lagrar data i JSON, BSON eller XML-format.\n",
    "- Nyckel-värde-databaser – Använder en enkel nyckel-värde-struktur.\n",
    "- Kolumnorienterade databaser – Optimerade för att hantera stora mängder data i kolumner.\n",
    "- Grafdatabaser – Designade för att hantera nätverksrelationer och grafstrukturer."
   ]
  },
  {
   "cell_type": "markdown",
   "metadata": {},
   "source": [
    "2. Vilken typ av data kan en NoSQL-databas hantera som inte en\n",
    "relationell databas kan?\n"
   ]
  },
  {
   "cell_type": "markdown",
   "metadata": {},
   "source": [
    "Svar: "
   ]
  },
  {
   "cell_type": "markdown",
   "metadata": {},
   "source": [
    "- En NoSQL-databas kan hantera alla strukturerade, ostrukturerad och halvstruktuererad databas medans en traditionell databas kan bara hantera strukturerade databas. \n",
    "\n",
    "- NoSQL är designade för att kunna hantera större mängd av data än den relaitionell databas.  Detta beror på att de kan skalas horisontellt, vilket innebär att de kan fördelas över flera servrar.\n",
    "\n",
    "- NoSQL-databaser kan också hantera data som genereras med hög hastighet, till exempel data från sensorer eller loggfiler. Detta beror på att de är utformade för att skriva data snabbt.\n"
   ]
  },
  {
   "cell_type": "markdown",
   "metadata": {},
   "source": [
    "3. Beskriv kortfattat vad en nyckel/värde-databas är.\n"
   ]
  },
  {
   "cell_type": "markdown",
   "metadata": {},
   "source": [
    "Svar:"
   ]
  },
  {
   "cell_type": "markdown",
   "metadata": {},
   "source": [
    "En nyckel/värde-databas är en typ av NoSQL-databas som \n",
    "- lagrar data i form av nyckel/värde.\n",
    "- Varje nyckel är unik och används för att identifiera det motsvarande värdet och vi kan bara göra säkningar i databasen på nycklarna, inte på värdena. \n",
    "- Värdet kan vara vilken typ av data som helst, till exempel text, siffror, bilder eller JSON-dokument. \n",
    "- Redis är en av dem molnjtänster för att skapa en databas i form av nyckel/värde-format."
   ]
  },
  {
   "cell_type": "markdown",
   "metadata": {},
   "source": [
    "4. Beskriv kortfattat vad en ddokumenterad-databas är.\n"
   ]
  },
  {
   "cell_type": "markdown",
   "metadata": {},
   "source": [
    "Svar:"
   ]
  },
  {
   "cell_type": "markdown",
   "metadata": {},
   "source": [
    "En dokumentdatabas är en typ av NoSQL-databas som \n",
    "- Lagrar data i form av dokument. Dessa dokument är vanligtvis i formatet JSON eller XML och kan innehålla komplexa datastrukturer.\n",
    "- Nycklar är sökbara men också fält i dokument, vilket gör det lätt att hitta data baseratt på specifika fält (t.ex prriduktnamn, kategori, osv).\n",
    "- MongoDB är en vanlig molntjänst för att skapa dokumentdatabaser. \n"
   ]
  },
  {
   "cell_type": "markdown",
   "metadata": {},
   "source": [
    "5. Beskriv kortfattat vad en bredkolumndatabas är.\n"
   ]
  },
  {
   "cell_type": "markdown",
   "metadata": {},
   "source": [
    "Svar:"
   ]
  },
  {
   "cell_type": "markdown",
   "metadata": {},
   "source": [
    "En bredkolumndatabas  är en typ av NoSQL-databas där data \n",
    "- lagras i kolumner istället för rader, vilket gör den mer flexibel och effektiv för att hantera stora mängder data.\n",
    "- Dynamisk schema: Varje rad kan ha olika kolumner, till skillnad från SQL där alla rader i en tabell måste följa samma schema.\n",
    "- Skalbarhet: Optimerad för att hantera stora datamängder och kan lätt distribueras över flera servrar."
   ]
  },
  {
   "cell_type": "markdown",
   "metadata": {},
   "source": [
    "\n",
    "6. Beskriv kortfattat vad en grafdatabas är."
   ]
  },
  {
   "cell_type": "markdown",
   "metadata": {},
   "source": [
    "Svar:"
   ]
  },
  {
   "cell_type": "markdown",
   "metadata": {},
   "source": [
    "En grafdatabas är en typ av databas som lagrar data i form av noder och relationer.\n",
    "- Noder (Nodes) – Representerar entiteter (t.ex. personer, städer, produkter).\n",
    "- Relationer (Edges) – Kopplar ihop noder och beskriver hur de är relaterade.\n",
    "- Egenskaper (Properties) – Metadata som lagras på både noder och relationer.\n"
   ]
  },
  {
   "cell_type": "markdown",
   "metadata": {},
   "source": [
    "### Nyckel/värdedatabas\n",
    "\n",
    "Lägg till datan i filen `kunskapskontroll_1/data/northwind/orders.csv` i en Redis-databas."
   ]
  },
  {
   "cell_type": "code",
   "execution_count": 1,
   "metadata": {},
   "outputs": [],
   "source": [
    "import redis"
   ]
  },
  {
   "cell_type": "code",
   "execution_count": 2,
   "metadata": {},
   "outputs": [],
   "source": [
    "PWD = \"OXMGopSx9PVD7NgrXfQ24Q1c7EtvkhaF\""
   ]
  },
  {
   "cell_type": "code",
   "execution_count": 3,
   "metadata": {},
   "outputs": [],
   "source": [
    "r = redis.Redis(\"redis://defaultOXMGopSx9PVD7NgrXfQ24Q1c7EtvkhaF@redis-16487.c282.east-us-mz.azure.redns.redis-cloud.com\", 16487, password=PWD, decode_responses=True)"
   ]
  },
  {
   "cell_type": "code",
   "execution_count": 4,
   "metadata": {},
   "outputs": [],
   "source": [
    "\"\"\"Basic connection example.\n",
    "\"\"\"\n",
    "\n",
    "import redis\n",
    "\n",
    "r = redis.Redis(\n",
    "    host='redis-16487.c282.east-us-mz.azure.redns.redis-cloud.com',\n",
    "    port=16487,\n",
    "    decode_responses=True,\n",
    "    username=\"default\",\n",
    "    password=\"OXMGopSx9PVD7NgrXfQ24Q1c7EtvkhaF\",\n",
    ")"
   ]
  },
  {
   "cell_type": "code",
   "execution_count": 5,
   "metadata": {},
   "outputs": [
    {
     "data": {
      "text/plain": [
       "<redis.client.Redis(<redis.connection.ConnectionPool(<redis.connection.Connection(host=redis-16487.c282.east-us-mz.azure.redns.redis-cloud.com,port=16487,db=0)>)>)>"
      ]
     },
     "execution_count": 5,
     "metadata": {},
     "output_type": "execute_result"
    }
   ],
   "source": [
    "r"
   ]
  },
  {
   "cell_type": "code",
   "execution_count": 6,
   "metadata": {},
   "outputs": [
    {
     "data": {
      "text/plain": [
       "True"
      ]
     },
     "execution_count": 6,
     "metadata": {},
     "output_type": "execute_result"
    }
   ],
   "source": [
    "r.set(\"Name\", \"Ly\")"
   ]
  },
  {
   "cell_type": "code",
   "execution_count": 7,
   "metadata": {},
   "outputs": [
    {
     "data": {
      "text/plain": [
       "'Ly'"
      ]
     },
     "execution_count": 7,
     "metadata": {},
     "output_type": "execute_result"
    }
   ],
   "source": [
    "r.get(\"Name\")"
   ]
  },
  {
   "cell_type": "code",
   "execution_count": 8,
   "metadata": {},
   "outputs": [
    {
     "data": {
      "text/plain": [
       "1"
      ]
     },
     "execution_count": 8,
     "metadata": {},
     "output_type": "execute_result"
    }
   ],
   "source": [
    "r.delete(\"Name\")"
   ]
  },
  {
   "cell_type": "code",
   "execution_count": 9,
   "metadata": {},
   "outputs": [],
   "source": [
    "r.get(\"Name\")"
   ]
  },
  {
   "cell_type": "code",
   "execution_count": 10,
   "metadata": {},
   "outputs": [],
   "source": [
    "import pandas as pd\n",
    "import json"
   ]
  },
  {
   "cell_type": "code",
   "execution_count": 11,
   "metadata": {},
   "outputs": [],
   "source": [
    "df = pd.read_csv (\"/Users/AliceNguyen/Documents/Data Manager - TUC/(År 1.5) Databastyper/orders.csv\", index_col=False, encoding =\"utf\")"
   ]
  },
  {
   "cell_type": "code",
   "execution_count": 12,
   "metadata": {},
   "outputs": [
    {
     "name": "stdout",
     "output_type": "stream",
     "text": [
      "<class 'pandas.core.frame.DataFrame'>\n",
      "RangeIndex: 830 entries, 0 to 829\n",
      "Data columns (total 10 columns):\n",
      " #   Column          Non-Null Count  Dtype \n",
      "---  ------          --------------  ----- \n",
      " 0   OrderID         830 non-null    int64 \n",
      " 1   OrderDate       830 non-null    object\n",
      " 2   RequiredDate    830 non-null    object\n",
      " 3   ShippedDate     809 non-null    object\n",
      " 4   ShipName        830 non-null    object\n",
      " 5   ShipCountry     830 non-null    object\n",
      " 6   ShipRegion      323 non-null    object\n",
      " 7   ShipAddress     830 non-null    object\n",
      " 8   ShipPostalCode  811 non-null    object\n",
      " 9   ShipCity        830 non-null    object\n",
      "dtypes: int64(1), object(9)\n",
      "memory usage: 65.0+ KB\n"
     ]
    }
   ],
   "source": [
    "df.info()"
   ]
  },
  {
   "cell_type": "code",
   "execution_count": 13,
   "metadata": {},
   "outputs": [
    {
     "data": {
      "text/html": [
       "<div>\n",
       "<style scoped>\n",
       "    .dataframe tbody tr th:only-of-type {\n",
       "        vertical-align: middle;\n",
       "    }\n",
       "\n",
       "    .dataframe tbody tr th {\n",
       "        vertical-align: top;\n",
       "    }\n",
       "\n",
       "    .dataframe thead th {\n",
       "        text-align: right;\n",
       "    }\n",
       "</style>\n",
       "<table border=\"1\" class=\"dataframe\">\n",
       "  <thead>\n",
       "    <tr style=\"text-align: right;\">\n",
       "      <th></th>\n",
       "      <th>OrderID</th>\n",
       "      <th>OrderDate</th>\n",
       "      <th>RequiredDate</th>\n",
       "      <th>ShippedDate</th>\n",
       "      <th>ShipName</th>\n",
       "      <th>ShipCountry</th>\n",
       "      <th>ShipRegion</th>\n",
       "      <th>ShipAddress</th>\n",
       "      <th>ShipPostalCode</th>\n",
       "      <th>ShipCity</th>\n",
       "    </tr>\n",
       "  </thead>\n",
       "  <tbody>\n",
       "    <tr>\n",
       "      <th>0</th>\n",
       "      <td>10248</td>\n",
       "      <td>1996-07-04 00:00:00</td>\n",
       "      <td>1996-08-01 00:00:00</td>\n",
       "      <td>1996-07-16 00:00:00</td>\n",
       "      <td>Vins et alcools Chevalier</td>\n",
       "      <td>France</td>\n",
       "      <td>NaN</td>\n",
       "      <td>59 rue de l'Abbaye</td>\n",
       "      <td>51100</td>\n",
       "      <td>Reims</td>\n",
       "    </tr>\n",
       "    <tr>\n",
       "      <th>1</th>\n",
       "      <td>10249</td>\n",
       "      <td>1996-07-05 00:00:00</td>\n",
       "      <td>1996-08-16 00:00:00</td>\n",
       "      <td>1996-07-10 00:00:00</td>\n",
       "      <td>Toms Spezialitäten</td>\n",
       "      <td>Germany</td>\n",
       "      <td>NaN</td>\n",
       "      <td>Luisenstr. 48</td>\n",
       "      <td>44087</td>\n",
       "      <td>Münster</td>\n",
       "    </tr>\n",
       "    <tr>\n",
       "      <th>2</th>\n",
       "      <td>10250</td>\n",
       "      <td>1996-07-08 00:00:00</td>\n",
       "      <td>1996-08-05 00:00:00</td>\n",
       "      <td>1996-07-12 00:00:00</td>\n",
       "      <td>Hanari Carnes</td>\n",
       "      <td>Brazil</td>\n",
       "      <td>RJ</td>\n",
       "      <td>Rua do Paço, 67</td>\n",
       "      <td>05454-876</td>\n",
       "      <td>Rio de Janeiro</td>\n",
       "    </tr>\n",
       "    <tr>\n",
       "      <th>3</th>\n",
       "      <td>10251</td>\n",
       "      <td>1996-07-08 00:00:00</td>\n",
       "      <td>1996-08-05 00:00:00</td>\n",
       "      <td>1996-07-15 00:00:00</td>\n",
       "      <td>Victuailles en stock</td>\n",
       "      <td>France</td>\n",
       "      <td>NaN</td>\n",
       "      <td>2, rue du Commerce</td>\n",
       "      <td>69004</td>\n",
       "      <td>Lyon</td>\n",
       "    </tr>\n",
       "    <tr>\n",
       "      <th>4</th>\n",
       "      <td>10252</td>\n",
       "      <td>1996-07-09 00:00:00</td>\n",
       "      <td>1996-08-06 00:00:00</td>\n",
       "      <td>1996-07-11 00:00:00</td>\n",
       "      <td>Suprêmes délices</td>\n",
       "      <td>Belgium</td>\n",
       "      <td>NaN</td>\n",
       "      <td>Boulevard Tirou, 255</td>\n",
       "      <td>B-6000</td>\n",
       "      <td>Charleroi</td>\n",
       "    </tr>\n",
       "  </tbody>\n",
       "</table>\n",
       "</div>"
      ],
      "text/plain": [
       "   OrderID            OrderDate         RequiredDate          ShippedDate  \\\n",
       "0    10248  1996-07-04 00:00:00  1996-08-01 00:00:00  1996-07-16 00:00:00   \n",
       "1    10249  1996-07-05 00:00:00  1996-08-16 00:00:00  1996-07-10 00:00:00   \n",
       "2    10250  1996-07-08 00:00:00  1996-08-05 00:00:00  1996-07-12 00:00:00   \n",
       "3    10251  1996-07-08 00:00:00  1996-08-05 00:00:00  1996-07-15 00:00:00   \n",
       "4    10252  1996-07-09 00:00:00  1996-08-06 00:00:00  1996-07-11 00:00:00   \n",
       "\n",
       "                    ShipName ShipCountry ShipRegion           ShipAddress  \\\n",
       "0  Vins et alcools Chevalier      France        NaN    59 rue de l'Abbaye   \n",
       "1         Toms Spezialitäten     Germany        NaN         Luisenstr. 48   \n",
       "2              Hanari Carnes      Brazil         RJ       Rua do Paço, 67   \n",
       "3       Victuailles en stock      France        NaN    2, rue du Commerce   \n",
       "4           Suprêmes délices     Belgium        NaN  Boulevard Tirou, 255   \n",
       "\n",
       "  ShipPostalCode        ShipCity  \n",
       "0          51100           Reims  \n",
       "1          44087         Münster  \n",
       "2      05454-876  Rio de Janeiro  \n",
       "3          69004            Lyon  \n",
       "4         B-6000       Charleroi  "
      ]
     },
     "execution_count": 13,
     "metadata": {},
     "output_type": "execute_result"
    }
   ],
   "source": [
    "df.head()"
   ]
  },
  {
   "cell_type": "code",
   "execution_count": 14,
   "metadata": {},
   "outputs": [
    {
     "name": "stdout",
     "output_type": "stream",
     "text": [
      "Orders har lagts till i Redis.\n"
     ]
    }
   ],
   "source": [
    "for _, row in df.iterrows():\n",
    "    order_id = row['OrderID']  \n",
    "    r.hset(f\"order:{order_id}\", mapping=row.to_dict())\n",
    "\n",
    "print(\"Orders har lagts till i Redis.\")"
   ]
  },
  {
   "cell_type": "markdown",
   "metadata": {},
   "source": [
    "Ge ett exempel på hur vad man kan använda Redis-databasen du skapat till:"
   ]
  },
  {
   "cell_type": "markdown",
   "metadata": {},
   "source": [
    "Redis databas är mycket snabbare än den traditionell SQL databas eftersom den lagrar data i RAM minnet. Denna Redis-databsen kan använda till att exempelvis hantera orders i en E-handelsplattform eller i et beställnngssystem. "
   ]
  },
  {
   "cell_type": "markdown",
   "metadata": {},
   "source": [
    "Exempel: Hämta alla ordrar från ett land"
   ]
  },
  {
   "cell_type": "code",
   "execution_count": 15,
   "metadata": {},
   "outputs": [
    {
     "name": "stdout",
     "output_type": "stream",
     "text": [
      "Ordrar till France:\n",
      "{'OrderID': '10610', 'OrderDate': '1997-07-25 00:00:00', 'RequiredDate': '1997-08-22 00:00:00', 'ShippedDate': '1997-08-06 00:00:00', 'ShipName': \"La maison d'Asie\", 'ShipCountry': 'France', 'ShipRegion': 'nan', 'ShipAddress': '1 rue Alsace-Lorraine', 'ShipPostalCode': '31000', 'ShipCity': 'Toulouse'}\n",
      "{'OrderID': '10631', 'OrderDate': '1997-08-14 00:00:00', 'RequiredDate': '1997-09-11 00:00:00', 'ShippedDate': '1997-08-15 00:00:00', 'ShipName': \"La maison d'Asie\", 'ShipCountry': 'France', 'ShipRegion': 'nan', 'ShipAddress': '1 rue Alsace-Lorraine', 'ShipPostalCode': '31000', 'ShipCity': 'Toulouse'}\n",
      "{'OrderID': '10871', 'OrderDate': '1998-02-05 00:00:00', 'RequiredDate': '1998-03-05 00:00:00', 'ShippedDate': '1998-02-10 00:00:00', 'ShipName': \"Bon app'\", 'ShipCountry': 'France', 'ShipRegion': 'nan', 'ShipAddress': '12, rue des Bouchers', 'ShipPostalCode': '13008', 'ShipCity': 'Marseille'}\n",
      "{'OrderID': '10493', 'OrderDate': '1997-04-02 00:00:00', 'RequiredDate': '1997-04-30 00:00:00', 'ShippedDate': '1997-04-10 00:00:00', 'ShipName': \"La maison d'Asie\", 'ShipCountry': 'France', 'ShipRegion': 'nan', 'ShipAddress': '1 rue Alsace-Lorraine', 'ShipPostalCode': '31000', 'ShipCity': 'Toulouse'}\n",
      "{'OrderID': '10609', 'OrderDate': '1997-07-24 00:00:00', 'RequiredDate': '1997-08-21 00:00:00', 'ShippedDate': '1997-07-30 00:00:00', 'ShipName': 'Du monde entier', 'ShipCountry': 'France', 'ShipRegion': 'nan', 'ShipAddress': '67, rue des Cinquante Otages', 'ShipPostalCode': '44000', 'ShipCity': 'Nantes'}\n",
      "{'OrderID': '10500', 'OrderDate': '1997-04-09 00:00:00', 'RequiredDate': '1997-05-07 00:00:00', 'ShippedDate': '1997-04-17 00:00:00', 'ShipName': \"La maison d'Asie\", 'ShipCountry': 'France', 'ShipRegion': 'nan', 'ShipAddress': '1 rue Alsace-Lorraine', 'ShipPostalCode': '31000', 'ShipCity': 'Toulouse'}\n",
      "{'OrderID': '10679', 'OrderDate': '1997-09-23 00:00:00', 'RequiredDate': '1997-10-21 00:00:00', 'ShippedDate': '1997-09-30 00:00:00', 'ShipName': 'Blondel père et fils', 'ShipCountry': 'France', 'ShipRegion': 'nan', 'ShipAddress': '24, place Kléber', 'ShipPostalCode': '67000', 'ShipCity': 'Strasbourg'}\n",
      "{'OrderID': '10971', 'OrderDate': '1998-03-24 00:00:00', 'RequiredDate': '1998-04-21 00:00:00', 'ShippedDate': '1998-04-02 00:00:00', 'ShipName': 'France restauration', 'ShipCountry': 'France', 'ShipRegion': 'nan', 'ShipAddress': '54, rue Royale', 'ShipPostalCode': '44000', 'ShipCity': 'Nantes'}\n",
      "{'OrderID': '10787', 'OrderDate': '1997-12-19 00:00:00', 'RequiredDate': '1998-01-02 00:00:00', 'ShippedDate': '1997-12-26 00:00:00', 'ShipName': \"La maison d'Asie\", 'ShipCountry': 'France', 'ShipRegion': 'nan', 'ShipAddress': '1 rue Alsace-Lorraine', 'ShipPostalCode': '31000', 'ShipCity': 'Toulouse'}\n",
      "{'OrderID': '10478', 'OrderDate': '1997-03-18 00:00:00', 'RequiredDate': '1997-04-01 00:00:00', 'ShippedDate': '1997-03-26 00:00:00', 'ShipName': 'Victuailles en stock', 'ShipCountry': 'France', 'ShipRegion': 'nan', 'ShipAddress': '2, rue du Commerce', 'ShipPostalCode': '69004', 'ShipCity': 'Lyon'}\n",
      "{'OrderID': '10371', 'OrderDate': '1996-12-03 00:00:00', 'RequiredDate': '1996-12-31 00:00:00', 'ShippedDate': '1996-12-24 00:00:00', 'ShipName': \"La maison d'Asie\", 'ShipCountry': 'France', 'ShipRegion': 'nan', 'ShipAddress': '1 rue Alsace-Lorraine', 'ShipPostalCode': '31000', 'ShipCity': 'Toulouse'}\n",
      "{'OrderID': '10973', 'OrderDate': '1998-03-24 00:00:00', 'RequiredDate': '1998-04-21 00:00:00', 'ShippedDate': '1998-03-27 00:00:00', 'ShipName': \"La corne d'abondance\", 'ShipCountry': 'France', 'ShipRegion': 'nan', 'ShipAddress': \"67, avenue de l'Europe\", 'ShipPostalCode': '78000', 'ShipCity': 'Versailles'}\n",
      "{'OrderID': '10737', 'OrderDate': '1997-11-11 00:00:00', 'RequiredDate': '1997-12-09 00:00:00', 'ShippedDate': '1997-11-18 00:00:00', 'ShipName': 'Vins et alcools Chevalier', 'ShipCountry': 'France', 'ShipRegion': 'nan', 'ShipAddress': \"59 rue de l'Abbaye\", 'ShipPostalCode': '51100', 'ShipCity': 'Reims'}\n",
      "{'OrderID': '10436', 'OrderDate': '1997-02-05 00:00:00', 'RequiredDate': '1997-03-05 00:00:00', 'ShippedDate': '1997-02-11 00:00:00', 'ShipName': 'Blondel père et fils', 'ShipCountry': 'France', 'ShipRegion': 'nan', 'ShipAddress': '24, place Kléber', 'ShipPostalCode': '67000', 'ShipCity': 'Strasbourg'}\n",
      "{'OrderID': '10511', 'OrderDate': '1997-04-18 00:00:00', 'RequiredDate': '1997-05-16 00:00:00', 'ShippedDate': '1997-04-21 00:00:00', 'ShipName': \"Bon app'\", 'ShipCountry': 'France', 'ShipRegion': 'nan', 'ShipAddress': '12, rue des Bouchers', 'ShipPostalCode': '13008', 'ShipCity': 'Marseille'}\n",
      "{'OrderID': '10525', 'OrderDate': '1997-05-02 00:00:00', 'RequiredDate': '1997-05-30 00:00:00', 'ShippedDate': '1997-05-23 00:00:00', 'ShipName': \"Bon app'\", 'ShipCountry': 'France', 'ShipRegion': 'nan', 'ShipAddress': '12, rue des Bouchers', 'ShipPostalCode': '13008', 'ShipCity': 'Marseille'}\n",
      "{'OrderID': '11076', 'OrderDate': '1998-05-06 00:00:00', 'RequiredDate': '1998-06-03 00:00:00', 'ShippedDate': 'nan', 'ShipName': \"Bon app'\", 'ShipCountry': 'France', 'ShipRegion': 'nan', 'ShipAddress': '12, rue des Bouchers', 'ShipPostalCode': '13008', 'ShipCity': 'Marseille'}\n",
      "{'OrderID': '10858', 'OrderDate': '1998-01-29 00:00:00', 'RequiredDate': '1998-02-26 00:00:00', 'ShippedDate': '1998-02-03 00:00:00', 'ShipName': \"La corne d'abondance\", 'ShipCountry': 'France', 'ShipRegion': 'nan', 'ShipAddress': \"67, avenue de l'Europe\", 'ShipPostalCode': '78000', 'ShipCity': 'Versailles'}\n",
      "{'OrderID': '10860', 'OrderDate': '1998-01-29 00:00:00', 'RequiredDate': '1998-02-26 00:00:00', 'ShippedDate': '1998-02-04 00:00:00', 'ShipName': 'France restauration', 'ShipCountry': 'France', 'ShipRegion': 'nan', 'ShipAddress': '54, rue Royale', 'ShipPostalCode': '44000', 'ShipCity': 'Nantes'}\n",
      "{'OrderID': '10311', 'OrderDate': '1996-09-20 00:00:00', 'RequiredDate': '1996-10-04 00:00:00', 'ShippedDate': '1996-09-26 00:00:00', 'ShipName': 'Du monde entier', 'ShipCountry': 'France', 'ShipRegion': 'nan', 'ShipAddress': '67, rue des Cinquante Otages', 'ShipPostalCode': '44000', 'ShipCity': 'Nantes'}\n",
      "{'OrderID': '10890', 'OrderDate': '1998-02-16 00:00:00', 'RequiredDate': '1998-03-16 00:00:00', 'ShippedDate': '1998-02-18 00:00:00', 'ShipName': 'Du monde entier', 'ShipCountry': 'France', 'ShipRegion': 'nan', 'ShipAddress': '67, rue des Cinquante Otages', 'ShipPostalCode': '44000', 'ShipCity': 'Nantes'}\n",
      "{'OrderID': '10927', 'OrderDate': '1998-03-05 00:00:00', 'RequiredDate': '1998-04-02 00:00:00', 'ShippedDate': '1998-04-08 00:00:00', 'ShipName': \"La corne d'abondance\", 'ShipCountry': 'France', 'ShipRegion': 'nan', 'ShipAddress': \"67, avenue de l'Europe\", 'ShipPostalCode': '78000', 'ShipCity': 'Versailles'}\n",
      "{'OrderID': '10763', 'OrderDate': '1997-12-03 00:00:00', 'RequiredDate': '1997-12-31 00:00:00', 'ShippedDate': '1997-12-08 00:00:00', 'ShipName': 'Folies gourmandes', 'ShipCountry': 'France', 'ShipRegion': 'nan', 'ShipAddress': '184, chaussée de Tournai', 'ShipPostalCode': '59000', 'ShipCity': 'Lille'}\n",
      "{'OrderID': '10297', 'OrderDate': '1996-09-04 00:00:00', 'RequiredDate': '1996-10-16 00:00:00', 'ShippedDate': '1996-09-10 00:00:00', 'ShipName': 'Blondel père et fils', 'ShipCountry': 'France', 'ShipRegion': 'nan', 'ShipAddress': '24, place Kléber', 'ShipPostalCode': '67000', 'ShipCity': 'Strasbourg'}\n",
      "{'OrderID': '10739', 'OrderDate': '1997-11-12 00:00:00', 'RequiredDate': '1997-12-10 00:00:00', 'ShippedDate': '1997-11-17 00:00:00', 'ShipName': 'Vins et alcools Chevalier', 'ShipCountry': 'France', 'ShipRegion': 'nan', 'ShipAddress': \"59 rue de l'Abbaye\", 'ShipPostalCode': '51100', 'ShipCity': 'Reims'}\n",
      "{'OrderID': '10334', 'OrderDate': '1996-10-21 00:00:00', 'RequiredDate': '1996-11-18 00:00:00', 'ShippedDate': '1996-10-28 00:00:00', 'ShipName': 'Victuailles en stock', 'ShipCountry': 'France', 'ShipRegion': 'nan', 'ShipAddress': '2, rue du Commerce', 'ShipPostalCode': '69004', 'ShipCity': 'Lyon'}\n",
      "{'OrderID': '10454', 'OrderDate': '1997-02-21 00:00:00', 'RequiredDate': '1997-03-21 00:00:00', 'ShippedDate': '1997-02-25 00:00:00', 'ShipName': \"La maison d'Asie\", 'ShipCountry': 'France', 'ShipRegion': 'nan', 'ShipAddress': '1 rue Alsace-Lorraine', 'ShipPostalCode': '31000', 'ShipCity': 'Toulouse'}\n",
      "{'OrderID': '10251', 'OrderDate': '1996-07-08 00:00:00', 'RequiredDate': '1996-08-05 00:00:00', 'ShippedDate': '1996-07-15 00:00:00', 'ShipName': 'Victuailles en stock', 'ShipCountry': 'France', 'ShipRegion': 'nan', 'ShipAddress': '2, rue du Commerce', 'ShipPostalCode': '69004', 'ShipCity': 'Lyon'}\n",
      "{'OrderID': '10932', 'OrderDate': '1998-03-06 00:00:00', 'RequiredDate': '1998-04-03 00:00:00', 'ShippedDate': '1998-03-24 00:00:00', 'ShipName': \"Bon app'\", 'ShipCountry': 'France', 'ShipRegion': 'nan', 'ShipAddress': '12, rue des Bouchers', 'ShipPostalCode': '13008', 'ShipCity': 'Marseille'}\n",
      "{'OrderID': '10827', 'OrderDate': '1998-01-12 00:00:00', 'RequiredDate': '1998-01-26 00:00:00', 'ShippedDate': '1998-02-06 00:00:00', 'ShipName': \"Bon app'\", 'ShipCountry': 'France', 'ShipRegion': 'nan', 'ShipAddress': '12, rue des Bouchers', 'ShipPostalCode': '13008', 'ShipCity': 'Marseille'}\n",
      "{'OrderID': '10274', 'OrderDate': '1996-08-06 00:00:00', 'RequiredDate': '1996-09-03 00:00:00', 'ShippedDate': '1996-08-16 00:00:00', 'ShipName': 'Vins et alcools Chevalier', 'ShipCountry': 'France', 'ShipRegion': 'nan', 'ShipAddress': \"59 rue de l'Abbaye\", 'ShipPostalCode': '51100', 'ShipCity': 'Reims'}\n",
      "{'OrderID': '10732', 'OrderDate': '1997-11-06 00:00:00', 'RequiredDate': '1997-12-04 00:00:00', 'ShippedDate': '1997-11-07 00:00:00', 'ShipName': \"Bon app'\", 'ShipCountry': 'France', 'ShipRegion': 'nan', 'ShipAddress': '12, rue des Bouchers', 'ShipPostalCode': '13008', 'ShipCity': 'Marseille'}\n",
      "{'OrderID': '10559', 'OrderDate': '1997-06-05 00:00:00', 'RequiredDate': '1997-07-03 00:00:00', 'ShippedDate': '1997-06-13 00:00:00', 'ShipName': 'Blondel père et fils', 'ShipCountry': 'France', 'ShipRegion': 'nan', 'ShipAddress': '24, place Kléber', 'ShipPostalCode': '67000', 'ShipCity': 'Strasbourg'}\n",
      "{'OrderID': '10628', 'OrderDate': '1997-08-12 00:00:00', 'RequiredDate': '1997-09-09 00:00:00', 'ShippedDate': '1997-08-20 00:00:00', 'ShipName': 'Blondel père et fils', 'ShipCountry': 'France', 'ShipRegion': 'nan', 'ShipAddress': '24, place Kléber', 'ShipPostalCode': '67000', 'ShipCity': 'Strasbourg'}\n",
      "{'OrderID': '10340', 'OrderDate': '1996-10-29 00:00:00', 'RequiredDate': '1996-11-26 00:00:00', 'ShippedDate': '1996-11-08 00:00:00', 'ShipName': \"Bon app'\", 'ShipCountry': 'France', 'ShipRegion': 'nan', 'ShipAddress': '12, rue des Bouchers', 'ShipPostalCode': '13008', 'ShipCity': 'Marseille'}\n",
      "{'OrderID': '10470', 'OrderDate': '1997-03-11 00:00:00', 'RequiredDate': '1997-04-08 00:00:00', 'ShippedDate': '1997-03-14 00:00:00', 'ShipName': \"Bon app'\", 'ShipCountry': 'France', 'ShipRegion': 'nan', 'ShipAddress': '12, rue des Bouchers', 'ShipPostalCode': '13008', 'ShipCity': 'Marseille'}\n",
      "{'OrderID': '10755', 'OrderDate': '1997-11-26 00:00:00', 'RequiredDate': '1997-12-24 00:00:00', 'ShippedDate': '1997-11-28 00:00:00', 'ShipName': \"Bon app'\", 'ShipCountry': 'France', 'ShipRegion': 'nan', 'ShipAddress': '12, rue des Bouchers', 'ShipPostalCode': '13008', 'ShipCity': 'Marseille'}\n",
      "{'OrderID': '10350', 'OrderDate': '1996-11-11 00:00:00', 'RequiredDate': '1996-12-09 00:00:00', 'ShippedDate': '1996-12-03 00:00:00', 'ShipName': \"La maison d'Asie\", 'ShipCountry': 'France', 'ShipRegion': 'nan', 'ShipAddress': '1 rue Alsace-Lorraine', 'ShipPostalCode': '31000', 'ShipCity': 'Toulouse'}\n",
      "{'OrderID': '10964', 'OrderDate': '1998-03-20 00:00:00', 'RequiredDate': '1998-04-17 00:00:00', 'ShippedDate': '1998-03-24 00:00:00', 'ShipName': 'Spécialités du monde', 'ShipCountry': 'France', 'ShipRegion': 'nan', 'ShipAddress': '25, rue Lauriston', 'ShipPostalCode': '75016', 'ShipCity': 'Paris'}\n",
      "{'OrderID': '10265', 'OrderDate': '1996-07-25 00:00:00', 'RequiredDate': '1996-08-22 00:00:00', 'ShippedDate': '1996-08-12 00:00:00', 'ShipName': 'Blondel père et fils', 'ShipCountry': 'France', 'ShipRegion': 'nan', 'ShipAddress': '24, place Kléber', 'ShipPostalCode': '67000', 'ShipCity': 'Strasbourg'}\n",
      "{'OrderID': '10634', 'OrderDate': '1997-08-15 00:00:00', 'RequiredDate': '1997-09-12 00:00:00', 'ShippedDate': '1997-08-21 00:00:00', 'ShipName': 'Folies gourmandes', 'ShipCountry': 'France', 'ShipRegion': 'nan', 'ShipAddress': '184, chaussée de Tournai', 'ShipPostalCode': '59000', 'ShipCity': 'Lille'}\n",
      "{'OrderID': '10248', 'OrderDate': '1996-07-04 00:00:00', 'RequiredDate': '1996-08-01 00:00:00', 'ShippedDate': '1996-07-16 00:00:00', 'ShipName': 'Vins et alcools Chevalier', 'ShipCountry': 'France', 'ShipRegion': 'nan', 'ShipAddress': \"59 rue de l'Abbaye\", 'ShipPostalCode': '51100', 'ShipCity': 'Reims'}\n",
      "{'OrderID': '10789', 'OrderDate': '1997-12-22 00:00:00', 'RequiredDate': '1998-01-19 00:00:00', 'ShippedDate': '1997-12-31 00:00:00', 'ShipName': 'Folies gourmandes', 'ShipCountry': 'France', 'ShipRegion': 'nan', 'ShipAddress': '184, chaussée de Tournai', 'ShipPostalCode': '59000', 'ShipCity': 'Lille'}\n",
      "{'OrderID': '10814', 'OrderDate': '1998-01-05 00:00:00', 'RequiredDate': '1998-02-02 00:00:00', 'ShippedDate': '1998-01-14 00:00:00', 'ShipName': 'Victuailles en stock', 'ShipCountry': 'France', 'ShipRegion': 'nan', 'ShipAddress': '2, rue du Commerce', 'ShipPostalCode': '69004', 'ShipCity': 'Lyon'}\n",
      "{'OrderID': '10832', 'OrderDate': '1998-01-14 00:00:00', 'RequiredDate': '1998-02-11 00:00:00', 'ShippedDate': '1998-01-19 00:00:00', 'ShipName': \"La maison d'Asie\", 'ShipCountry': 'France', 'ShipRegion': 'nan', 'ShipAddress': '1 rue Alsace-Lorraine', 'ShipPostalCode': '31000', 'ShipCity': 'Toulouse'}\n",
      "{'OrderID': '10843', 'OrderDate': '1998-01-21 00:00:00', 'RequiredDate': '1998-02-18 00:00:00', 'ShippedDate': '1998-01-26 00:00:00', 'ShipName': 'Victuailles en stock', 'ShipCountry': 'France', 'ShipRegion': 'nan', 'ShipAddress': '2, rue du Commerce', 'ShipPostalCode': '69004', 'ShipCity': 'Lyon'}\n",
      "{'OrderID': '10907', 'OrderDate': '1998-02-25 00:00:00', 'RequiredDate': '1998-03-25 00:00:00', 'ShippedDate': '1998-02-27 00:00:00', 'ShipName': 'Spécialités du monde', 'ShipCountry': 'France', 'ShipRegion': 'nan', 'ShipAddress': '25, rue Lauriston', 'ShipPostalCode': '75016', 'ShipCity': 'Paris'}\n",
      "{'OrderID': '10295', 'OrderDate': '1996-09-02 00:00:00', 'RequiredDate': '1996-09-30 00:00:00', 'ShippedDate': '1996-09-10 00:00:00', 'ShipName': 'Vins et alcools Chevalier', 'ShipCountry': 'France', 'ShipRegion': 'nan', 'ShipAddress': \"59 rue de l'Abbaye\", 'ShipPostalCode': '51100', 'ShipCity': 'Reims'}\n",
      "{'OrderID': '10940', 'OrderDate': '1998-03-11 00:00:00', 'RequiredDate': '1998-04-08 00:00:00', 'ShippedDate': '1998-03-23 00:00:00', 'ShipName': \"Bon app'\", 'ShipCountry': 'France', 'ShipRegion': 'nan', 'ShipAddress': '12, rue des Bouchers', 'ShipPostalCode': '13008', 'ShipCity': 'Marseille'}\n",
      "{'OrderID': '10663', 'OrderDate': '1997-09-10 00:00:00', 'RequiredDate': '1997-09-24 00:00:00', 'ShippedDate': '1997-10-03 00:00:00', 'ShipName': \"Bon app'\", 'ShipCountry': 'France', 'ShipRegion': 'nan', 'ShipAddress': '12, rue des Bouchers', 'ShipPostalCode': '13008', 'ShipCity': 'Marseille'}\n",
      "{'OrderID': '10738', 'OrderDate': '1997-11-12 00:00:00', 'RequiredDate': '1997-12-10 00:00:00', 'ShippedDate': '1997-11-18 00:00:00', 'ShipName': 'Spécialités du monde', 'ShipCountry': 'France', 'ShipRegion': 'nan', 'ShipAddress': '25, rue Lauriston', 'ShipPostalCode': '75016', 'ShipCity': 'Paris'}\n",
      "{'OrderID': '10362', 'OrderDate': '1996-11-25 00:00:00', 'RequiredDate': '1996-12-23 00:00:00', 'ShippedDate': '1996-11-28 00:00:00', 'ShipName': \"Bon app'\", 'ShipCountry': 'France', 'ShipRegion': 'nan', 'ShipAddress': '12, rue des Bouchers', 'ShipPostalCode': '13008', 'ShipCity': 'Marseille'}\n",
      "{'OrderID': '10972', 'OrderDate': '1998-03-24 00:00:00', 'RequiredDate': '1998-04-21 00:00:00', 'ShippedDate': '1998-03-26 00:00:00', 'ShipName': \"La corne d'abondance\", 'ShipCountry': 'France', 'ShipRegion': 'nan', 'ShipAddress': \"67, avenue de l'Europe\", 'ShipPostalCode': '78000', 'ShipCity': 'Versailles'}\n",
      "{'OrderID': '11043', 'OrderDate': '1998-04-22 00:00:00', 'RequiredDate': '1998-05-20 00:00:00', 'ShippedDate': '1998-04-29 00:00:00', 'ShipName': 'Spécialités du monde', 'ShipCountry': 'France', 'ShipRegion': 'nan', 'ShipAddress': '25, rue Lauriston', 'ShipPostalCode': '75016', 'ShipCity': 'Paris'}\n",
      "{'OrderID': '10413', 'OrderDate': '1997-01-14 00:00:00', 'RequiredDate': '1997-02-11 00:00:00', 'ShippedDate': '1997-01-16 00:00:00', 'ShipName': \"La maison d'Asie\", 'ShipCountry': 'France', 'ShipRegion': 'nan', 'ShipAddress': '1 rue Alsace-Lorraine', 'ShipPostalCode': '31000', 'ShipCity': 'Toulouse'}\n",
      "{'OrderID': '10449', 'OrderDate': '1997-02-18 00:00:00', 'RequiredDate': '1997-03-18 00:00:00', 'ShippedDate': '1997-02-27 00:00:00', 'ShipName': 'Blondel père et fils', 'ShipCountry': 'France', 'ShipRegion': 'nan', 'ShipAddress': '24, place Kléber', 'ShipPostalCode': '67000', 'ShipCity': 'Strasbourg'}\n",
      "{'OrderID': '10425', 'OrderDate': '1997-01-24 00:00:00', 'RequiredDate': '1997-02-21 00:00:00', 'ShippedDate': '1997-02-14 00:00:00', 'ShipName': \"La maison d'Asie\", 'ShipCountry': 'France', 'ShipRegion': 'nan', 'ShipAddress': '1 rue Alsace-Lorraine', 'ShipPostalCode': '31000', 'ShipCity': 'Toulouse'}\n",
      "{'OrderID': '11051', 'OrderDate': '1998-04-27 00:00:00', 'RequiredDate': '1998-05-25 00:00:00', 'ShippedDate': 'nan', 'ShipName': \"La maison d'Asie\", 'ShipCountry': 'France', 'ShipRegion': 'nan', 'ShipAddress': '1 rue Alsace-Lorraine', 'ShipPostalCode': '31000', 'ShipCity': 'Toulouse'}\n",
      "{'OrderID': '10876', 'OrderDate': '1998-02-09 00:00:00', 'RequiredDate': '1998-03-09 00:00:00', 'ShippedDate': '1998-02-12 00:00:00', 'ShipName': \"Bon app'\", 'ShipCountry': 'France', 'ShipRegion': 'nan', 'ShipAddress': '12, rue des Bouchers', 'ShipPostalCode': '13008', 'ShipCity': 'Marseille'}\n",
      "{'OrderID': '10360', 'OrderDate': '1996-11-22 00:00:00', 'RequiredDate': '1996-12-20 00:00:00', 'ShippedDate': '1996-12-02 00:00:00', 'ShipName': 'Blondel père et fils', 'ShipCountry': 'France', 'ShipRegion': 'nan', 'ShipAddress': '24, place Kléber', 'ShipPostalCode': '67000', 'ShipCity': 'Strasbourg'}\n",
      "{'OrderID': '10715', 'OrderDate': '1997-10-23 00:00:00', 'RequiredDate': '1997-11-06 00:00:00', 'ShippedDate': '1997-10-29 00:00:00', 'ShipName': \"Bon app'\", 'ShipCountry': 'France', 'ShipRegion': 'nan', 'ShipAddress': '12, rue des Bouchers', 'ShipPostalCode': '13008', 'ShipCity': 'Marseille'}\n",
      "{'OrderID': '10566', 'OrderDate': '1997-06-12 00:00:00', 'RequiredDate': '1997-07-10 00:00:00', 'ShippedDate': '1997-06-18 00:00:00', 'ShipName': 'Blondel père et fils', 'ShipCountry': 'France', 'ShipRegion': 'nan', 'ShipAddress': '24, place Kléber', 'ShipPostalCode': '67000', 'ShipCity': 'Strasbourg'}\n",
      "{'OrderID': '10331', 'OrderDate': '1996-10-16 00:00:00', 'RequiredDate': '1996-11-27 00:00:00', 'ShippedDate': '1996-10-21 00:00:00', 'ShipName': \"Bon app'\", 'ShipCountry': 'France', 'ShipRegion': 'nan', 'ShipAddress': '12, rue des Bouchers', 'ShipPostalCode': '13008', 'ShipCity': 'Marseille'}\n",
      "{'OrderID': '10730', 'OrderDate': '1997-11-05 00:00:00', 'RequiredDate': '1997-12-03 00:00:00', 'ShippedDate': '1997-11-14 00:00:00', 'ShipName': \"Bon app'\", 'ShipCountry': 'France', 'ShipRegion': 'nan', 'ShipAddress': '12, rue des Bouchers', 'ShipPostalCode': '13008', 'ShipCity': 'Marseille'}\n",
      "{'OrderID': '10826', 'OrderDate': '1998-01-12 00:00:00', 'RequiredDate': '1998-02-09 00:00:00', 'ShippedDate': '1998-02-06 00:00:00', 'ShipName': 'Blondel père et fils', 'ShipCountry': 'France', 'ShipRegion': 'nan', 'ShipAddress': '24, place Kléber', 'ShipPostalCode': '67000', 'ShipCity': 'Strasbourg'}\n",
      "{'OrderID': '10459', 'OrderDate': '1997-02-27 00:00:00', 'RequiredDate': '1997-03-27 00:00:00', 'ShippedDate': '1997-02-28 00:00:00', 'ShipName': 'Victuailles en stock', 'ShipCountry': 'France', 'ShipRegion': 'nan', 'ShipAddress': '2, rue du Commerce', 'ShipPostalCode': '69004', 'ShipCity': 'Lyon'}\n",
      "{'OrderID': '10683', 'OrderDate': '1997-09-26 00:00:00', 'RequiredDate': '1997-10-24 00:00:00', 'ShippedDate': '1997-10-01 00:00:00', 'ShipName': 'Du monde entier', 'ShipCountry': 'France', 'ShipRegion': 'nan', 'ShipAddress': '67, rue des Cinquante Otages', 'ShipPostalCode': '44000', 'ShipCity': 'Nantes'}\n",
      "{'OrderID': '10546', 'OrderDate': '1997-05-23 00:00:00', 'RequiredDate': '1997-06-20 00:00:00', 'ShippedDate': '1997-05-27 00:00:00', 'ShipName': 'Victuailles en stock', 'ShipCountry': 'France', 'ShipRegion': 'nan', 'ShipAddress': '2, rue du Commerce', 'ShipPostalCode': '69004', 'ShipCity': 'Lyon'}\n",
      "{'OrderID': '10358', 'OrderDate': '1996-11-20 00:00:00', 'RequiredDate': '1996-12-18 00:00:00', 'ShippedDate': '1996-11-27 00:00:00', 'ShipName': \"La maison d'Asie\", 'ShipCountry': 'France', 'ShipRegion': 'nan', 'ShipAddress': '1 rue Alsace-Lorraine', 'ShipPostalCode': '31000', 'ShipCity': 'Toulouse'}\n",
      "{'OrderID': '10450', 'OrderDate': '1997-02-19 00:00:00', 'RequiredDate': '1997-03-19 00:00:00', 'ShippedDate': '1997-03-11 00:00:00', 'ShipName': 'Victuailles en stock', 'ShipCountry': 'France', 'ShipRegion': 'nan', 'ShipAddress': '2, rue du Commerce', 'ShipPostalCode': '69004', 'ShipCity': 'Lyon'}\n",
      "{'OrderID': '10480', 'OrderDate': '1997-03-20 00:00:00', 'RequiredDate': '1997-04-17 00:00:00', 'ShippedDate': '1997-03-24 00:00:00', 'ShipName': 'Folies gourmandes', 'ShipCountry': 'France', 'ShipRegion': 'nan', 'ShipAddress': '184, chaussée de Tournai', 'ShipPostalCode': '59000', 'ShipCity': 'Lille'}\n",
      "{'OrderID': '10408', 'OrderDate': '1997-01-08 00:00:00', 'RequiredDate': '1997-02-05 00:00:00', 'ShippedDate': '1997-01-14 00:00:00', 'ShipName': 'Folies gourmandes', 'ShipCountry': 'France', 'ShipRegion': 'nan', 'ShipAddress': '184, chaussée de Tournai', 'ShipPostalCode': '59000', 'ShipCity': 'Lille'}\n",
      "{'OrderID': '10923', 'OrderDate': '1998-03-03 00:00:00', 'RequiredDate': '1998-04-14 00:00:00', 'ShippedDate': '1998-03-13 00:00:00', 'ShipName': \"La maison d'Asie\", 'ShipCountry': 'France', 'ShipRegion': 'nan', 'ShipAddress': '1 rue Alsace-Lorraine', 'ShipPostalCode': '31000', 'ShipCity': 'Toulouse'}\n",
      "{'OrderID': '10584', 'OrderDate': '1997-06-30 00:00:00', 'RequiredDate': '1997-07-28 00:00:00', 'ShippedDate': '1997-07-04 00:00:00', 'ShipName': 'Blondel père et fils', 'ShipCountry': 'France', 'ShipRegion': 'nan', 'ShipAddress': '24, place Kléber', 'ShipPostalCode': '67000', 'ShipCity': 'Strasbourg'}\n",
      "{'OrderID': '10806', 'OrderDate': '1997-12-31 00:00:00', 'RequiredDate': '1998-01-28 00:00:00', 'ShippedDate': '1998-01-05 00:00:00', 'ShipName': 'Victuailles en stock', 'ShipCountry': 'France', 'ShipRegion': 'nan', 'ShipAddress': '2, rue du Commerce', 'ShipPostalCode': '69004', 'ShipCity': 'Lyon'}\n",
      "{'OrderID': '10671', 'OrderDate': '1997-09-17 00:00:00', 'RequiredDate': '1997-10-15 00:00:00', 'ShippedDate': '1997-09-24 00:00:00', 'ShipName': 'France restauration', 'ShipCountry': 'France', 'ShipRegion': 'nan', 'ShipAddress': '54, rue Royale', 'ShipPostalCode': '44000', 'ShipCity': 'Nantes'}\n",
      "{'OrderID': '10850', 'OrderDate': '1998-01-23 00:00:00', 'RequiredDate': '1998-03-06 00:00:00', 'ShippedDate': '1998-01-30 00:00:00', 'ShipName': 'Victuailles en stock', 'ShipCountry': 'France', 'ShipRegion': 'nan', 'ShipAddress': '2, rue du Commerce', 'ShipPostalCode': '69004', 'ShipCity': 'Lyon'}\n"
     ]
    }
   ],
   "source": [
    "country = \"France\"\n",
    "orders = [r.hgetall(key) for key in r.scan_iter(\"order:*\") if r.hget(key, \"ShipCountry\") == country]\n",
    "\n",
    "print(f\"Ordrar till {country}:\")\n",
    "for order in orders:\n",
    "    print(order)"
   ]
  },
  {
   "cell_type": "markdown",
   "metadata": {},
   "source": [
    "Exempel: Att kunna se vilka ordrar som kommer sent!"
   ]
  },
  {
   "cell_type": "code",
   "execution_count": 16,
   "metadata": {},
   "outputs": [
    {
     "name": "stdout",
     "output_type": "stream",
     "text": [
      "Försenade ordrar: [{'OrderID': '10483', 'OrderDate': '1997-03-24 00:00:00', 'RequiredDate': '1997-04-21 00:00:00', 'ShippedDate': '1997-04-25 00:00:00', 'ShipName': 'White Clover Markets', 'ShipCountry': 'USA', 'ShipRegion': 'WA', 'ShipAddress': '1029 - 12th Ave. S.', 'ShipPostalCode': '98124', 'ShipCity': 'Seattle'}, {'OrderID': '11058', 'OrderDate': '1998-04-29 00:00:00', 'RequiredDate': '1998-05-27 00:00:00', 'ShippedDate': 'nan', 'ShipName': 'Blauer See Delikatessen', 'ShipCountry': 'Germany', 'ShipRegion': 'nan', 'ShipAddress': 'Forsterstr. 57', 'ShipPostalCode': '68306', 'ShipCity': 'Mannheim'}, {'OrderID': '10847', 'OrderDate': '1998-01-22 00:00:00', 'RequiredDate': '1998-02-05 00:00:00', 'ShippedDate': '1998-02-10 00:00:00', 'ShipName': 'Save-a-lot Markets', 'ShipCountry': 'USA', 'ShipRegion': 'ID', 'ShipAddress': '187 Suffolk Ln.', 'ShipPostalCode': '83720', 'ShipCity': 'Boise'}, {'OrderID': '10427', 'OrderDate': '1997-01-27 00:00:00', 'RequiredDate': '1997-02-24 00:00:00', 'ShippedDate': '1997-03-03 00:00:00', 'ShipName': 'Piccolo und mehr', 'ShipCountry': 'Austria', 'ShipRegion': 'nan', 'ShipAddress': 'Geislweg 14', 'ShipPostalCode': '5020', 'ShipCity': 'Salzburg'}, {'OrderID': '10320', 'OrderDate': '1996-10-03 00:00:00', 'RequiredDate': '1996-10-17 00:00:00', 'ShippedDate': '1996-10-18 00:00:00', 'ShipName': 'Wartian Herkku', 'ShipCountry': 'Finland', 'ShipRegion': 'nan', 'ShipAddress': 'Torikatu 38', 'ShipPostalCode': '90110', 'ShipCity': 'Oulu'}, {'OrderID': '10545', 'OrderDate': '1997-05-22 00:00:00', 'RequiredDate': '1997-06-19 00:00:00', 'ShippedDate': '1997-06-26 00:00:00', 'ShipName': 'Lazy K Kountry Store', 'ShipCountry': 'USA', 'ShipRegion': 'WA', 'ShipAddress': '12 Orchestra Terrace', 'ShipPostalCode': '99362', 'ShipCity': 'Walla Walla'}, {'OrderID': '10309', 'OrderDate': '1996-09-19 00:00:00', 'RequiredDate': '1996-10-17 00:00:00', 'ShippedDate': '1996-10-23 00:00:00', 'ShipName': 'Hungry Owl All-Night Grocers', 'ShipCountry': 'Ireland', 'ShipRegion': 'Co. Cork', 'ShipAddress': '8 Johnstown Road', 'ShipPostalCode': 'nan', 'ShipCity': 'Cork'}, {'OrderID': '10726', 'OrderDate': '1997-11-03 00:00:00', 'RequiredDate': '1997-11-17 00:00:00', 'ShippedDate': '1997-12-05 00:00:00', 'ShipName': 'Eastern Connection', 'ShipCountry': 'UK', 'ShipRegion': 'nan', 'ShipAddress': '35 King George', 'ShipPostalCode': 'WX3 6FW', 'ShipCity': 'London'}, {'OrderID': '11077', 'OrderDate': '1998-05-06 00:00:00', 'RequiredDate': '1998-06-03 00:00:00', 'ShippedDate': 'nan', 'ShipName': 'Rattlesnake Canyon Grocery', 'ShipCountry': 'USA', 'ShipRegion': 'NM', 'ShipAddress': '2817 Milton Dr.', 'ShipPostalCode': '87110', 'ShipCity': 'Albuquerque'}, {'OrderID': '11065', 'OrderDate': '1998-05-01 00:00:00', 'RequiredDate': '1998-05-29 00:00:00', 'ShippedDate': 'nan', 'ShipName': 'LILA-Supermercado', 'ShipCountry': 'Venezuela', 'ShipRegion': 'Lara', 'ShipAddress': 'Carrera 52 con Ave. Bolívar #65-98 Llano Largo', 'ShipPostalCode': '3508', 'ShipCity': 'Barquisimeto'}, {'OrderID': '10807', 'OrderDate': '1997-12-31 00:00:00', 'RequiredDate': '1998-01-28 00:00:00', 'ShippedDate': '1998-01-30 00:00:00', 'ShipName': 'Franchi S.p.A.', 'ShipCountry': 'Italy', 'ShipRegion': 'nan', 'ShipAddress': 'Via Monte Bianco 34', 'ShipPostalCode': '10100', 'ShipCity': 'Torino'}, {'OrderID': '10593', 'OrderDate': '1997-07-09 00:00:00', 'RequiredDate': '1997-08-06 00:00:00', 'ShippedDate': '1997-08-13 00:00:00', 'ShipName': 'Lehmanns Marktstand', 'ShipCountry': 'Germany', 'ShipRegion': 'nan', 'ShipAddress': 'Magazinweg 7', 'ShipPostalCode': '60528', 'ShipCity': 'Frankfurt a.M.'}, {'OrderID': '11045', 'OrderDate': '1998-04-23 00:00:00', 'RequiredDate': '1998-05-21 00:00:00', 'ShippedDate': 'nan', 'ShipName': 'Bottom-Dollar Markets', 'ShipCountry': 'Canada', 'ShipRegion': 'BC', 'ShipAddress': '23 Tsawassen Blvd.', 'ShipPostalCode': 'T2F 8M4', 'ShipCity': 'Tsawassen'}, {'OrderID': '11076', 'OrderDate': '1998-05-06 00:00:00', 'RequiredDate': '1998-06-03 00:00:00', 'ShippedDate': 'nan', 'ShipName': \"Bon app'\", 'ShipCountry': 'France', 'ShipRegion': 'nan', 'ShipAddress': '12, rue des Bouchers', 'ShipPostalCode': '13008', 'ShipCity': 'Marseille'}, {'OrderID': '10687', 'OrderDate': '1997-09-30 00:00:00', 'RequiredDate': '1997-10-28 00:00:00', 'ShippedDate': '1997-10-30 00:00:00', 'ShipName': 'Hungry Owl All-Night Grocers', 'ShipCountry': 'Ireland', 'ShipRegion': 'Co. Cork', 'ShipAddress': '8 Johnstown Road', 'ShipPostalCode': 'nan', 'ShipCity': 'Cork'}, {'OrderID': '11039', 'OrderDate': '1998-04-21 00:00:00', 'RequiredDate': '1998-05-19 00:00:00', 'ShippedDate': 'nan', 'ShipName': 'LINO-Delicateses', 'ShipCountry': 'Venezuela', 'ShipRegion': 'Nueva Esparta', 'ShipAddress': 'Ave. 5 de Mayo Porlamar', 'ShipPostalCode': '4980', 'ShipCity': 'I. de Margarita'}, {'OrderID': '10960', 'OrderDate': '1998-03-19 00:00:00', 'RequiredDate': '1998-04-02 00:00:00', 'ShippedDate': '1998-04-08 00:00:00', 'ShipName': 'HILARION-Abastos', 'ShipCountry': 'Venezuela', 'ShipRegion': 'Táchira', 'ShipAddress': 'Carrera 22 con Ave. Carlos Soublette #8-35', 'ShipPostalCode': '5022', 'ShipCity': 'San Cristóbal'}, {'OrderID': '10727', 'OrderDate': '1997-11-03 00:00:00', 'RequiredDate': '1997-12-01 00:00:00', 'ShippedDate': '1997-12-05 00:00:00', 'ShipName': 'Reggiani Caseifici', 'ShipCountry': 'Italy', 'ShipRegion': 'nan', 'ShipAddress': 'Strada Provinciale 124', 'ShipPostalCode': '42100', 'ShipCity': 'Reggio Emilia'}, {'OrderID': '10777', 'OrderDate': '1997-12-15 00:00:00', 'RequiredDate': '1997-12-29 00:00:00', 'ShippedDate': '1998-01-21 00:00:00', 'ShipName': 'Gourmet Lanchonetes', 'ShipCountry': 'Brazil', 'ShipRegion': 'SP', 'ShipAddress': 'Av. Brasil, 442', 'ShipPostalCode': '04876-786', 'ShipCity': 'Campinas'}, {'OrderID': '10970', 'OrderDate': '1998-03-24 00:00:00', 'RequiredDate': '1998-04-07 00:00:00', 'ShippedDate': '1998-04-24 00:00:00', 'ShipName': 'Bólido Comidas preparadas', 'ShipCountry': 'Spain', 'ShipRegion': 'nan', 'ShipAddress': 'C/ Araquil, 67', 'ShipPostalCode': '28023', 'ShipCity': 'Madrid'}, {'OrderID': '10779', 'OrderDate': '1997-12-16 00:00:00', 'RequiredDate': '1998-01-13 00:00:00', 'ShippedDate': '1998-01-14 00:00:00', 'ShipName': 'Morgenstern Gesundkost', 'ShipCountry': 'Germany', 'ShipRegion': 'nan', 'ShipAddress': 'Heerstr. 22', 'ShipPostalCode': '04179', 'ShipCity': 'Leipzig'}, {'OrderID': '10596', 'OrderDate': '1997-07-11 00:00:00', 'RequiredDate': '1997-08-08 00:00:00', 'ShippedDate': '1997-08-12 00:00:00', 'ShipName': 'White Clover Markets', 'ShipCountry': 'USA', 'ShipRegion': 'WA', 'ShipAddress': '1029 - 12th Ave. S.', 'ShipPostalCode': '98124', 'ShipCity': 'Seattle'}, {'OrderID': '10433', 'OrderDate': '1997-02-03 00:00:00', 'RequiredDate': '1997-03-03 00:00:00', 'ShippedDate': '1997-03-04 00:00:00', 'ShipName': 'Princesa Isabel Vinhos', 'ShipCountry': 'Portugal', 'ShipRegion': 'nan', 'ShipAddress': 'Estrada da saúde n. 58', 'ShipPostalCode': '1756', 'ShipCity': 'Lisboa'}, {'OrderID': '10927', 'OrderDate': '1998-03-05 00:00:00', 'RequiredDate': '1998-04-02 00:00:00', 'ShippedDate': '1998-04-08 00:00:00', 'ShipName': \"La corne d'abondance\", 'ShipCountry': 'France', 'ShipRegion': 'nan', 'ShipAddress': \"67, avenue de l'Europe\", 'ShipPostalCode': '78000', 'ShipCity': 'Versailles'}, {'OrderID': '11072', 'OrderDate': '1998-05-05 00:00:00', 'RequiredDate': '1998-06-02 00:00:00', 'ShippedDate': 'nan', 'ShipName': 'Ernst Handel', 'ShipCountry': 'Austria', 'ShipRegion': 'nan', 'ShipAddress': 'Kirchgasse 6', 'ShipPostalCode': '8010', 'ShipCity': 'Graz'}, {'OrderID': '11073', 'OrderDate': '1998-05-05 00:00:00', 'RequiredDate': '1998-06-02 00:00:00', 'ShippedDate': 'nan', 'ShipName': 'Pericles Comidas clásicas', 'ShipCountry': 'Mexico', 'ShipRegion': 'nan', 'ShipAddress': 'Calle Dr. Jorge Cash 321', 'ShipPostalCode': '05033', 'ShipCity': 'México D.F.'}, {'OrderID': '10660', 'OrderDate': '1997-09-08 00:00:00', 'RequiredDate': '1997-10-06 00:00:00', 'ShippedDate': '1997-10-15 00:00:00', 'ShipName': 'Hungry Coyote Import Store', 'ShipCountry': 'USA', 'ShipRegion': 'OR', 'ShipAddress': 'City Center Plaza 516 Main St.', 'ShipPostalCode': '97827', 'ShipCity': 'Elgin'}, {'OrderID': '10423', 'OrderDate': '1997-01-23 00:00:00', 'RequiredDate': '1997-02-06 00:00:00', 'ShippedDate': '1997-02-24 00:00:00', 'ShipName': 'Gourmet Lanchonetes', 'ShipCountry': 'Brazil', 'ShipRegion': 'SP', 'ShipAddress': 'Av. Brasil, 442', 'ShipPostalCode': '04876-786', 'ShipCity': 'Campinas'}, {'OrderID': '11062', 'OrderDate': '1998-04-30 00:00:00', 'RequiredDate': '1998-05-28 00:00:00', 'ShippedDate': 'nan', 'ShipName': 'Reggiani Caseifici', 'ShipCountry': 'Italy', 'ShipRegion': 'nan', 'ShipAddress': 'Strada Provinciale 124', 'ShipPostalCode': '42100', 'ShipCity': 'Reggio Emilia'}, {'OrderID': '10827', 'OrderDate': '1998-01-12 00:00:00', 'RequiredDate': '1998-01-26 00:00:00', 'ShippedDate': '1998-02-06 00:00:00', 'ShipName': \"Bon app'\", 'ShipCountry': 'France', 'ShipRegion': 'nan', 'ShipAddress': '12, rue des Bouchers', 'ShipPostalCode': '13008', 'ShipCity': 'Marseille'}, {'OrderID': '11061', 'OrderDate': '1998-04-30 00:00:00', 'RequiredDate': '1998-06-11 00:00:00', 'ShippedDate': 'nan', 'ShipName': 'Great Lakes Food Market', 'ShipCountry': 'USA', 'ShipRegion': 'OR', 'ShipAddress': '2732 Baker Blvd.', 'ShipPostalCode': '97403', 'ShipCity': 'Eugene'}, {'OrderID': '11070', 'OrderDate': '1998-05-05 00:00:00', 'RequiredDate': '1998-06-02 00:00:00', 'ShippedDate': 'nan', 'ShipName': 'Lehmanns Marktstand', 'ShipCountry': 'Germany', 'ShipRegion': 'nan', 'ShipAddress': 'Magazinweg 7', 'ShipPostalCode': '60528', 'ShipCity': 'Frankfurt a.M.'}, {'OrderID': '10924', 'OrderDate': '1998-03-04 00:00:00', 'RequiredDate': '1998-04-01 00:00:00', 'ShippedDate': '1998-04-08 00:00:00', 'ShipName': 'Berglunds snabbköp', 'ShipCountry': 'Sweden', 'ShipRegion': 'nan', 'ShipAddress': 'Berguvsvägen  8', 'ShipPostalCode': 'S-958 22', 'ShipCity': 'Luleå'}, {'OrderID': '10523', 'OrderDate': '1997-05-01 00:00:00', 'RequiredDate': '1997-05-29 00:00:00', 'ShippedDate': '1997-05-30 00:00:00', 'ShipName': 'Seven Seas Imports', 'ShipCountry': 'UK', 'ShipRegion': 'nan', 'ShipAddress': '90 Wadhurst Rd.', 'ShipPostalCode': 'OX15 4NB', 'ShipCity': 'London'}, {'OrderID': '10264', 'OrderDate': '1996-07-24 00:00:00', 'RequiredDate': '1996-08-21 00:00:00', 'ShippedDate': '1996-08-23 00:00:00', 'ShipName': 'Folk och fä HB', 'ShipCountry': 'Sweden', 'ShipRegion': 'nan', 'ShipAddress': 'Åkergatan 24', 'ShipPostalCode': 'S-844 67', 'ShipCity': 'Bräcke'}, {'OrderID': '10280', 'OrderDate': '1996-08-14 00:00:00', 'RequiredDate': '1996-09-11 00:00:00', 'ShippedDate': '1996-09-12 00:00:00', 'ShipName': 'Berglunds snabbköp', 'ShipCountry': 'Sweden', 'ShipRegion': 'nan', 'ShipAddress': 'Berguvsvägen  8', 'ShipPostalCode': 'S-958 22', 'ShipCity': 'Luleå'}, {'OrderID': '11019', 'OrderDate': '1998-04-13 00:00:00', 'RequiredDate': '1998-05-11 00:00:00', 'ShippedDate': 'nan', 'ShipName': 'Rancho grande', 'ShipCountry': 'Argentina', 'ShipRegion': 'nan', 'ShipAddress': 'Av. del Libertador 900', 'ShipPostalCode': '1010', 'ShipCity': 'Buenos Aires'}, {'OrderID': '10451', 'OrderDate': '1997-02-19 00:00:00', 'RequiredDate': '1997-03-05 00:00:00', 'ShippedDate': '1997-03-12 00:00:00', 'ShipName': 'QUICK-Stop', 'ShipCountry': 'Germany', 'ShipRegion': 'nan', 'ShipAddress': 'Taucherstraße 10', 'ShipPostalCode': '01307', 'ShipCity': 'Cunewalde'}, {'OrderID': '10816', 'OrderDate': '1998-01-06 00:00:00', 'RequiredDate': '1998-02-03 00:00:00', 'ShippedDate': '1998-02-04 00:00:00', 'ShipName': 'Great Lakes Food Market', 'ShipCountry': 'USA', 'ShipRegion': 'OR', 'ShipAddress': '2732 Baker Blvd.', 'ShipPostalCode': '97403', 'ShipCity': 'Eugene'}, {'OrderID': '11059', 'OrderDate': '1998-04-29 00:00:00', 'RequiredDate': '1998-06-10 00:00:00', 'ShippedDate': 'nan', 'ShipName': 'Ricardo Adocicados', 'ShipCountry': 'Brazil', 'ShipRegion': 'RJ', 'ShipAddress': 'Av. Copacabana, 267', 'ShipPostalCode': '02389-890', 'ShipCity': 'Rio de Janeiro'}, {'OrderID': '10302', 'OrderDate': '1996-09-10 00:00:00', 'RequiredDate': '1996-10-08 00:00:00', 'ShippedDate': '1996-10-09 00:00:00', 'ShipName': 'Suprêmes délices', 'ShipCountry': 'Belgium', 'ShipRegion': 'nan', 'ShipAddress': 'Boulevard Tirou, 255', 'ShipPostalCode': 'B-6000', 'ShipCity': 'Charleroi'}, {'OrderID': '11074', 'OrderDate': '1998-05-06 00:00:00', 'RequiredDate': '1998-06-03 00:00:00', 'ShippedDate': 'nan', 'ShipName': 'Simons bistro', 'ShipCountry': 'Denmark', 'ShipRegion': 'nan', 'ShipAddress': 'Vinbæltet 34', 'ShipPostalCode': '1734', 'ShipCity': 'Kobenhavn'}, {'OrderID': '10828', 'OrderDate': '1998-01-13 00:00:00', 'RequiredDate': '1998-01-27 00:00:00', 'ShippedDate': '1998-02-04 00:00:00', 'ShipName': 'Rancho grande', 'ShipCountry': 'Argentina', 'ShipRegion': 'nan', 'ShipAddress': 'Av. del Libertador 900', 'ShipPostalCode': '1010', 'ShipCity': 'Buenos Aires'}, {'OrderID': '10749', 'OrderDate': '1997-11-20 00:00:00', 'RequiredDate': '1997-12-18 00:00:00', 'ShippedDate': '1997-12-19 00:00:00', 'ShipName': 'Island Trading', 'ShipCountry': 'UK', 'ShipRegion': 'Isle of Wight', 'ShipAddress': 'Garden House Crowther Way', 'ShipPostalCode': 'PO31 7PJ', 'ShipCity': 'Cowes'}, {'OrderID': '10271', 'OrderDate': '1996-08-01 00:00:00', 'RequiredDate': '1996-08-29 00:00:00', 'ShippedDate': '1996-08-30 00:00:00', 'ShipName': 'Split Rail Beer & Ale', 'ShipCountry': 'USA', 'ShipRegion': 'WY', 'ShipAddress': 'P.O. Box 555', 'ShipPostalCode': '82520', 'ShipCity': 'Lander'}, {'OrderID': '11008', 'OrderDate': '1998-04-08 00:00:00', 'RequiredDate': '1998-05-06 00:00:00', 'ShippedDate': 'nan', 'ShipName': 'Ernst Handel', 'ShipCountry': 'Austria', 'ShipRegion': 'nan', 'ShipAddress': 'Kirchgasse 6', 'ShipPostalCode': '8010', 'ShipCity': 'Graz'}, {'OrderID': '10705', 'OrderDate': '1997-10-15 00:00:00', 'RequiredDate': '1997-11-12 00:00:00', 'ShippedDate': '1997-11-18 00:00:00', 'ShipName': 'HILARION-Abastos', 'ShipCountry': 'Venezuela', 'ShipRegion': 'Táchira', 'ShipAddress': 'Carrera 22 con Ave. Carlos Soublette #8-35', 'ShipPostalCode': '5022', 'ShipCity': 'San Cristóbal'}, {'OrderID': '10578', 'OrderDate': '1997-06-24 00:00:00', 'RequiredDate': '1997-07-22 00:00:00', 'ShippedDate': '1997-07-25 00:00:00', 'ShipName': \"B's Beverages\", 'ShipCountry': 'UK', 'ShipRegion': 'nan', 'ShipAddress': 'Fauntleroy Circus', 'ShipPostalCode': 'EC2 5NT', 'ShipCity': 'London'}, {'OrderID': '10663', 'OrderDate': '1997-09-10 00:00:00', 'RequiredDate': '1997-09-24 00:00:00', 'ShippedDate': '1997-10-03 00:00:00', 'ShipName': \"Bon app'\", 'ShipCountry': 'France', 'ShipRegion': 'nan', 'ShipAddress': '12, rue des Bouchers', 'ShipPostalCode': '13008', 'ShipCity': 'Marseille'}, {'OrderID': '11075', 'OrderDate': '1998-05-06 00:00:00', 'RequiredDate': '1998-06-03 00:00:00', 'ShippedDate': 'nan', 'ShipName': 'Richter Supermarkt', 'ShipCountry': 'Switzerland', 'ShipRegion': 'nan', 'ShipAddress': 'Starenweg 5', 'ShipPostalCode': '1204', 'ShipCity': 'Genève'}, {'OrderID': '11068', 'OrderDate': '1998-05-04 00:00:00', 'RequiredDate': '1998-06-01 00:00:00', 'ShippedDate': 'nan', 'ShipName': 'Queen Cozinha', 'ShipCountry': 'Brazil', 'ShipRegion': 'SP', 'ShipAddress': 'Alameda dos Canàrios, 891', 'ShipPostalCode': '05487-020', 'ShipCity': 'Sao Paulo'}, {'OrderID': '10380', 'OrderDate': '1996-12-12 00:00:00', 'RequiredDate': '1997-01-09 00:00:00', 'ShippedDate': '1997-01-16 00:00:00', 'ShipName': 'Hungry Owl All-Night Grocers', 'ShipCountry': 'Ireland', 'ShipRegion': 'Co. Cork', 'ShipAddress': '8 Johnstown Road', 'ShipPostalCode': 'nan', 'ShipCity': 'Cork'}, {'OrderID': '11040', 'OrderDate': '1998-04-22 00:00:00', 'RequiredDate': '1998-05-20 00:00:00', 'ShippedDate': 'nan', 'ShipName': 'Great Lakes Food Market', 'ShipCountry': 'USA', 'ShipRegion': 'OR', 'ShipAddress': '2732 Baker Blvd.', 'ShipPostalCode': '97403', 'ShipCity': 'Eugene'}, {'OrderID': '11071', 'OrderDate': '1998-05-05 00:00:00', 'RequiredDate': '1998-06-02 00:00:00', 'ShippedDate': 'nan', 'ShipName': 'LILA-Supermercado', 'ShipCountry': 'Venezuela', 'ShipRegion': 'Lara', 'ShipAddress': 'Carrera 52 con Ave. Bolívar #65-98 Llano Largo', 'ShipPostalCode': '3508', 'ShipCity': 'Barquisimeto'}, {'OrderID': '11051', 'OrderDate': '1998-04-27 00:00:00', 'RequiredDate': '1998-05-25 00:00:00', 'ShippedDate': 'nan', 'ShipName': \"La maison d'Asie\", 'ShipCountry': 'France', 'ShipRegion': 'nan', 'ShipAddress': '1 rue Alsace-Lorraine', 'ShipPostalCode': '31000', 'ShipCity': 'Toulouse'}, {'OrderID': '10515', 'OrderDate': '1997-04-23 00:00:00', 'RequiredDate': '1997-05-07 00:00:00', 'ShippedDate': '1997-05-23 00:00:00', 'ShipName': 'QUICK-Stop', 'ShipCountry': 'Germany', 'ShipRegion': 'nan', 'ShipAddress': 'Taucherstraße 10', 'ShipPostalCode': '01307', 'ShipCity': 'Cunewalde'}, {'OrderID': '10709', 'OrderDate': '1997-10-17 00:00:00', 'RequiredDate': '1997-11-14 00:00:00', 'ShippedDate': '1997-11-20 00:00:00', 'ShipName': 'Gourmet Lanchonetes', 'ShipCountry': 'Brazil', 'ShipRegion': 'SP', 'ShipAddress': 'Av. Brasil, 442', 'ShipPostalCode': '04876-786', 'ShipCity': 'Campinas'}, {'OrderID': '11054', 'OrderDate': '1998-04-28 00:00:00', 'RequiredDate': '1998-05-26 00:00:00', 'ShippedDate': 'nan', 'ShipName': 'Cactus Comidas para llevar', 'ShipCountry': 'Argentina', 'ShipRegion': 'nan', 'ShipAddress': 'Cerrito 333', 'ShipPostalCode': '1010', 'ShipCity': 'Buenos Aires'}]\n"
     ]
    }
   ],
   "source": [
    "from datetime import datetime\n",
    "\n",
    "delayed_orders = []\n",
    "\n",
    "for key in r.scan_iter(\"order:*\"):\n",
    "    order = r.hgetall(key)\n",
    "    if order[\"ShippedDate\"] > order[\"RequiredDate\"]: \n",
    "        delayed_orders.append(order)\n",
    "\n",
    "print(\"Försenade ordrar:\", delayed_orders)\n",
    "\n"
   ]
  }
 ],
 "metadata": {
  "kernelspec": {
   "display_name": "base",
   "language": "python",
   "name": "python3"
  },
  "language_info": {
   "codemirror_mode": {
    "name": "ipython",
    "version": 3
   },
   "file_extension": ".py",
   "mimetype": "text/x-python",
   "name": "python",
   "nbconvert_exporter": "python",
   "pygments_lexer": "ipython3",
   "version": "3.12.7"
  }
 },
 "nbformat": 4,
 "nbformat_minor": 2
}
