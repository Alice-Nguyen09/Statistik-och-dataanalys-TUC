{
 "cells": [
  {
   "cell_type": "markdown",
   "metadata": {},
   "source": [
    "### Grafdatabas\n",
    "**OBS** Fråga 1-3 nedan är desamma för både Godkänt och Väl godkänt. Det som skiljer sig är hur du väljer att skapa databasen samt fråga 4.\n",
    "\n",
    "#### Godkänt\n",
    "* Läs in `csv`-filerna i `kunskapskontroll_1/data/movies/prepared/` i Neo4j och skapa en datamodell.\n",
    "* Svara på frågorna och utför instruktionerna nedan. Klistra in dina svar som JSON eller bilder, beroende på om svaret är i data- eller graf-form.\n",
    "    1. Vilka är de 10 vanligaste kombinationerna av genrer?\n",
    "    2. Vilka är de fem vanligaste genrerna på filmer regisserade av Steven Spielberg, och hur många filmer är i de genrerna?\n",
    "    3. Det verkar som om de har missat att Viggo Mortensen är med i Sagan om Ringen-filmerna. Skapa `[:ACTED_IN]`-relationer mellan Viggo och alla tre *The Lord of the Rings*-filmerna. Visa en graf med Viggo i mitten och relationer till de tre filmerna.\n",
    "\n",
    "#### Väl godkänt\n",
    "* Bearbeta datan i `kunskapskontroll_1/data/movies/movies.json` så att den passar till att läsas in i Neo4j. Processen ska gå att följa i kodceller i notebooken. Du får gärna titta på filerna i `kunskapskontroll_1/data/movies/prepared/` för att få en idé om hur resultatet ska se ut.\n",
    "* Läs in data in Neo4j.\n",
    "* Svara på frågorna och utför instruktionerna nedan. Klistra in dina svar som JSON eller bilder, beroende på om svaret är i data- eller graf-form.\n",
    "    1. Vilka är de 10 vanligaste kombinationerna av genrer?\n",
    "    2. Vilka är de fem vanligaste genrerna på filmer regisserade av Steven Spielberg, och hur många filmer är i de genrerna?\n",
    "    3. Det verkar som om de har missat att Viggo Mortensen är med i Sagan om Ringen-filmerna. Skapa `[:ACTED_IN]`-relationer mellan Viggo och alla tre *The Lord of the Rings*-filmerna. Visa en graf med Viggo i mitten och relationer till de tre filmerna.\n",
    "    4. Hitta på minst en egen fråga och svara på den.\n",
    "\n"
   ]
  },
  {
   "cell_type": "code",
   "execution_count": 1,
   "metadata": {},
   "outputs": [],
   "source": [
    "from neo4j import GraphDatabase"
   ]
  },
  {
   "cell_type": "code",
   "execution_count": 3,
   "metadata": {},
   "outputs": [],
   "source": [
    "import json\n",
    "import pandas as pd\n",
    "\n",
    "\n",
    "with open('/Users/AliceNguyen/Documents/Data Manager - TUC/(År 1.5) Databastyper/movies.json', 'r', encoding='utf-8') as f:\n",
    "    data = json.load(f)\n",
    "\n",
    "\n",
    "df = pd.DataFrame(data)\n",
    "\n",
    "df.to_csv('movies_prepared.csv', index=False, encoding='utf-8')\n"
   ]
  },
  {
   "cell_type": "markdown",
   "metadata": {},
   "source": [
    "Svar 1: Vilka är de 10 vanligaste kombinationerna av genrer?"
   ]
  },
  {
   "cell_type": "markdown",
   "metadata": {},
   "source": [
    "Query:"
   ]
  },
  {
   "cell_type": "code",
   "execution_count": null,
   "metadata": {},
   "outputs": [],
   "source": [
    "MATCH (m:Movies)-[:HAS_GENRE]->(g:Genres)\n",
    "WITH m, COLLECT(g.genre) AS genre_combination\n",
    "RETURN genre_combination, COUNT(*) AS count\n",
    "ORDER BY count DESC\n",
    "LIMIT 10;"
   ]
  },
  {
   "cell_type": "markdown",
   "metadata": {},
   "source": [
    "SVAR:"
   ]
  },
  {
   "cell_type": "code",
   "execution_count": 2,
   "metadata": {},
   "outputs": [],
   "source": [
    "import json"
   ]
  },
  {
   "cell_type": "code",
   "execution_count": null,
   "metadata": {},
   "outputs": [],
   "source": [
    "with open (\"/Users/AliceNguyen/Documents/Data Manager - TUC/(År 1.5) Databastyper/KK1_Neo4j_fråga1.json\", \"r\") as f:\n",
    "    fråga1_data = json.load(f)\n"
   ]
  },
  {
   "cell_type": "code",
   "execution_count": 4,
   "metadata": {},
   "outputs": [
    {
     "data": {
      "text/plain": [
       "[{'genre_combination': ['Drama'], 'count': 212},\n",
       " {'genre_combination': ['Comedy'], 'count': 189},\n",
       " {'genre_combination': ['Comedy', 'Drama'], 'count': 181},\n",
       " {'genre_combination': ['Comedy', 'Romance', 'Drama'], 'count': 180},\n",
       " {'genre_combination': ['Comedy', 'Romance'], 'count': 149},\n",
       " {'genre_combination': ['Romance', 'Drama'], 'count': 146},\n",
       " {'genre_combination': ['Thriller', 'Drama', 'Crime'], 'count': 94},\n",
       " {'genre_combination': ['Horror'], 'count': 63},\n",
       " {'genre_combination': ['Action', 'Thriller', 'Crime'], 'count': 61},\n",
       " {'genre_combination': ['Action', 'Thriller', 'Drama', 'Crime'], 'count': 61}]"
      ]
     },
     "execution_count": 4,
     "metadata": {},
     "output_type": "execute_result"
    }
   ],
   "source": [
    "fråga1_data"
   ]
  },
  {
   "cell_type": "markdown",
   "metadata": {},
   "source": [
    "Query:"
   ]
  },
  {
   "cell_type": "code",
   "execution_count": null,
   "metadata": {},
   "outputs": [],
   "source": [
    "MATCH (d:Directors {director_name: 'Steven Spielberg'})-[:DIRECTED]->(m:Movies)-[:HAS_GENRE]->(g:Genres)\n",
    "WITH g.genre AS genre, COUNT(*) AS genre_count\n",
    "ORDER BY genre_count DESC\n",
    "LIMIT 5\n",
    "RETURN genre, genre_count;"
   ]
  },
  {
   "cell_type": "markdown",
   "metadata": {},
   "source": [
    "Svar:"
   ]
  },
  {
   "cell_type": "code",
   "execution_count": 29,
   "metadata": {},
   "outputs": [],
   "source": [
    "with open (\"/Users/AliceNguyen/Documents/Data Manager - TUC/(År 1.5) Databastyper/KK1_Neo4j_fråga2.json\", \"r\") as f:\n",
    "    fråga2_data = json.load(f)"
   ]
  },
  {
   "cell_type": "code",
   "execution_count": 6,
   "metadata": {},
   "outputs": [
    {
     "data": {
      "text/plain": [
       "[{'genre': 'Drama', 'genre_count': 13},\n",
       " {'genre': 'Adventure', 'genre_count': 12},\n",
       " {'genre': 'Action', 'genre_count': 9},\n",
       " {'genre': 'Sci-Fi', 'genre_count': 7},\n",
       " {'genre': 'Thriller', 'genre_count': 6}]"
      ]
     },
     "execution_count": 6,
     "metadata": {},
     "output_type": "execute_result"
    }
   ],
   "source": [
    "fråga2_data"
   ]
  },
  {
   "cell_type": "markdown",
   "metadata": {},
   "source": [
    "Query:"
   ]
  },
  {
   "cell_type": "code",
   "execution_count": null,
   "metadata": {},
   "outputs": [],
   "source": [
    "MATCH (m:Movies)\n",
    "WHERE m.movie_title CONTAINS 'The Lord of the Rings'\n",
    "MATCH (a:Actors) WHERE a.actor_name = \"Viggo Mortensen\"\n",
    "\n",
    "MERGE (a)-[:ACTED_IN]->(m)"
   ]
  },
  {
   "cell_type": "markdown",
   "metadata": {},
   "source": [
    "Svar:"
   ]
  },
  {
   "cell_type": "code",
   "execution_count": null,
   "metadata": {},
   "outputs": [],
   "source": [
    "import matplotlib.pyplot as plt\n",
    "import matplotlib.image as mpimg\n",
    "\n",
    "image = mpimg.imread(\"/Users/AliceNguyen/Documents/Data Manager - TUC/(År 1.5) Databastyper/KK1_neo4j_fråga3.png\")"
   ]
  },
  {
   "cell_type": "code",
   "execution_count": 23,
   "metadata": {},
   "outputs": [
    {
     "data": {
      "image/png": "[encoded data removed]",
      "text/plain": [
       "<Figure size 800x800 with 1 Axes>"
      ]
     },
     "metadata": {},
     "output_type": "display_data"
    }
   ],
   "source": [
    "fig, ax = plt.subplots(figsize=(8, 8))\n",
    "ax.imshow(image)\n",
    "plt.axis(\"off\")  \n",
    "plt.show()\n"
   ]
  },
  {
   "cell_type": "markdown",
   "metadata": {},
   "source": [
    "* Extra fråga: Vilka skådespelare har spelat i flest filmer tillsammans?\n",
    "* Query:"
   ]
  },
  {
   "cell_type": "code",
   "execution_count": null,
   "metadata": {},
   "outputs": [],
   "source": [
    "MATCH (a1:Actors)-[:ACTED_IN]->(m:Movies)<-[:ACTED_IN]-(a2:Actors)\n",
    "WHERE a1 <> a2\n",
    "WITH a1.actor_name AS Actor1, a2.actor_name AS Actor2, COUNT(m) AS MoviesTogether\n",
    "ORDER BY MoviesTogether DESC\n",
    "LIMIT 10\n",
    "RETURN Actor1, Actor2, MoviesTogether;"
   ]
  },
  {
   "cell_type": "markdown",
   "metadata": {},
   "source": [
    "Svar:"
   ]
  },
  {
   "cell_type": "code",
   "execution_count": 33,
   "metadata": {},
   "outputs": [],
   "source": [
    "with open (\"/Users/AliceNguyen/Documents/Data Manager - TUC/(År 1.5) Databastyper/KK1_neo4j_extrafråga.json\", \"r\") as f:\n",
    "    frågaextra = json.load(f)"
   ]
  },
  {
   "cell_type": "code",
   "execution_count": 34,
   "metadata": {},
   "outputs": [
    {
     "data": {
      "text/plain": [
       "[{'Actor1': 'Steve Buscemi', 'Actor2': 'Adam Sandler', 'MoviesTogether': 6},\n",
       " {'Actor1': 'Adam Sandler', 'Actor2': 'Steve Buscemi', 'MoviesTogether': 6},\n",
       " {'Actor1': 'Leonard Nimoy',\n",
       "  'Actor2': 'Nichelle Nichols',\n",
       "  'MoviesTogether': 6},\n",
       " {'Actor1': 'Nichelle Nichols',\n",
       "  'Actor2': 'Leonard Nimoy',\n",
       "  'MoviesTogether': 6},\n",
       " {'Actor1': 'Robert Downey Jr.',\n",
       "  'Actor2': 'Scarlett Johansson',\n",
       "  'MoviesTogether': 4},\n",
       " {'Actor1': 'Rupert Grint', 'Actor2': 'Daniel Radcliffe', 'MoviesTogether': 4},\n",
       " {'Actor1': 'Johnny Depp', 'Actor2': 'Jack Davenport', 'MoviesTogether': 4},\n",
       " {'Actor1': 'Daniel Radcliffe', 'Actor2': 'Rupert Grint', 'MoviesTogether': 4},\n",
       " {'Actor1': 'Jack Davenport', 'Actor2': 'Johnny Depp', 'MoviesTogether': 4},\n",
       " {'Actor1': 'Scarlett Johansson',\n",
       "  'Actor2': 'Robert Downey Jr.',\n",
       "  'MoviesTogether': 4}]"
      ]
     },
     "execution_count": 34,
     "metadata": {},
     "output_type": "execute_result"
    }
   ],
   "source": [
    "frågaextra"
   ]
  },
  {
   "cell_type": "code",
   "execution_count": null,
   "metadata": {},
   "outputs": [],
   "source": []
  }
 ],
 "metadata": {
  "kernelspec": {
   "display_name": "base",
   "language": "python",
   "name": "python3"
  },
  "language_info": {
   "codemirror_mode": {
    "name": "ipython",
    "version": 3
   },
   "file_extension": ".py",
   "mimetype": "text/x-python",
   "name": "python",
   "nbconvert_exporter": "python",
   "pygments_lexer": "ipython3",
   "version": "3.12.7"
  }
 },
 "nbformat": 4,
 "nbformat_minor": 2
}
