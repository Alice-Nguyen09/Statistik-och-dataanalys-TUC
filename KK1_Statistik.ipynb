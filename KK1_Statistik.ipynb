{
 "cells": [
  {
   "cell_type": "markdown",
   "metadata": {},
   "source": [
    "# Kunskapskontroll 1: Statistik och dataanalys"
   ]
  },
  {
   "cell_type": "markdown",
   "metadata": {},
   "source": [
    "## Del 1 - Teoretiska frågor"
   ]
  },
  {
   "cell_type": "markdown",
   "metadata": {},
   "source": [
    "### Fråga 1:\n",
    "Många barn tror att de blev till genom att en stork kom och lämnade dem till deras föräldrar.  \n",
    " \n",
    "För att undersöka det kan vi kolla på data och det finns en graf enligt figuren nedan.  \n",
    " \n",
    "Det verkar alltså finnas ett samband mellan antalet storkar och barnafödsel!? Stämmer detta påståendet? Använd begreppen ”korrelation” och ”kausalitet” i ditt svar.  "
   ]
  },
  {
   "cell_type": "markdown",
   "metadata": {},
   "source": [
    "Nej, påståendet att antalet storkar orsakar fler barnafödselar stämmer inte, även om det kan verka så vid en första anblick. \n",
    "\n",
    "Korrelation och kausalitet:\n",
    "\n",
    "Korrelation innebär att två variabler verkar följa varandra – till exempel att i områden där det finns fler storkar, föds också fler barn.\n",
    "\n",
    "Kausalitet innebär att den ena variabeln direkt påverkar den andra - att storkarna orsakar att fler barn föds.\n",
    "\n",
    "I det här fallet finns det korrelation, men ingen kausalitet. Bara för att två saker sker samtidigt betyder det inte att den ena orsakar den andra. Att det finns en korrelation mellan antalet storkar och barnafödsel betyder inte att det finns en kausalitet.\n"
   ]
  },
  {
   "cell_type": "markdown",
   "metadata": {},
   "source": [
    "### Fråga 2: Vad är korrelation"
   ]
  },
  {
   "cell_type": "markdown",
   "metadata": {},
   "source": [
    "Korrelation mäter hur starkt två variabler hänger ihop - att om det finns ett mönster i hur de förändras tillsammans.\n",
    "\n",
    "I bilden ses en rad diagram med olika siffror – till exempel 1, 0.8, 0, -1. Dessa siffror kallas korrelationskoefficienter (eller \"r\") och de går från -1 till +1:\n",
    "\n",
    "Positiv korrelation (r > 0)\n",
    "r = 1: Perfekt positiv korrelation – när X ökar, ökar Y exakt lika mycket. Punkterna ligger på en rak uppåtgående linje.\n",
    "\n",
    "r = 0.8: Stark positiv korrelation – punkterna ligger nära en stigande linje.\n",
    "\n",
    "r = 0.4: Svagare positiv korrelation – viss spridning, men tydlig trend uppåt.\n",
    "\n",
    "Ingen korrelation (r = 0)\n",
    "r = 0: Ingen linjär koppling mellan X och Y. Punkterna är spridda utan mönster.\n",
    "\n",
    "Negativ korrelation (r < 0)\n",
    "r = -1: Perfekt negativ korrelation – när X ökar, minskar Y exakt lika mycket. Rak nedåtgående linje.\n",
    "\n",
    "r = -0.8: Stark negativ korrelation – tydlig trend nedåt, men med lite spridning.\n",
    "\n",
    "r = -0.4: Svag negativ korrelation – lite mindre tydligt men ändå en nedåtgående trend.\n"
   ]
  },
  {
   "cell_type": "markdown",
   "metadata": {},
   "source": [
    "### Fråga 3:\n",
    "\n",
    "Kim påstår att ”medelvärdet” är ett bättre mått än ”medianvärdet”."
   ]
  },
  {
   "cell_type": "markdown",
   "metadata": {},
   "source": [
    "Jag håller inte med Kim. Medelvärdetn är inte ett bättre mått än medianvärdet eftersom det beror på situation när vi behöver dessa mått.\n",
    "\n",
    "Medelvärde är summan av alla värden ÷ antal värden\n",
    "Exempel: 2, 4, 6 → medelvärde = (2 + 4 + 6)/3 = 4\n",
    "\n",
    "Medianvärde är det mittersta värdet när alla siffror är i ordning\n",
    "Exempel: 2, 4, 6 → median = 4\n",
    "Om det är ett jämnt antal värden, tar man medel av de två mittersta.\n",
    "\n",
    "I situation där vi kollar på lönerna i en avdelning som är jämnt fördelad mellan 25 000 till 30 000 då är det bättre att använda medelvärdet medans om det finns en person (manager) som tjänar 200 000 och andra tjänar bara 30 000, blir medianvärdet bättre att använda. \n",
    "\n"
   ]
  },
  {
   "cell_type": "markdown",
   "metadata": {},
   "source": [
    "### Fråga 4: \n",
    "\n",
    "Vad används cirkeldiagram för? Ge ett exempel på vad ett företag som Spotify (eller\n",
    "något annat företag som du själv väljer) hade kunnat använda cirkeldiagram för. "
   ]
  },
  {
   "cell_type": "markdown",
   "metadata": {},
   "source": [
    "Cirkeldiagram används för att visa hur en helhet är uppdelad i delar –  hur olika kategorier bidrar till en totalsumma. Det är bra när visualiseringar vill visa andelar eller procent på ett tydligt och visuellt sätt.\n",
    "\n",
    "Spotify kan använda ett cirkeldiagram för att visa:\n",
    "\n",
    "Fördelning av musiklyssning per genre\n",
    "\n",
    "T.ex. hur stor andel av användarnas lyssningar\n",
    "\n",
    "Pop: 40%\n",
    "\n",
    "Hip-hop: 25%\n",
    "\n",
    "Rock: 15%\n",
    "\n",
    "Elektronisk musik: 15%\n",
    "\n",
    "Jazz: 3%\n",
    "\n",
    "Övrigt: 2%\n",
    "\n",
    "Totalt ska det vara 100%\n"
   ]
  },
  {
   "cell_type": "markdown",
   "metadata": {},
   "source": [
    "### Fråga 5:\n"
   ]
  },
  {
   "cell_type": "markdown",
   "metadata": {},
   "source": [
    "Linjediagram används för att visa förändringar över tid. Det funkar bäst när man vill följa en utveckling – t.ex. dag för dag, vecka för vecka eller år för år.\n",
    "\n",
    "Spotify kan använda ett linjediagram för att visa:\n",
    "\n",
    "Antal nya användare per månad under ett år\n",
    "\n",
    "Januari: 400 000 accounts\n",
    "\n",
    "Februari: 405 000 accounts\n",
    "\n",
    "Mars: 415 000 accounts\n",
    "\n",
    "...\n",
    "\n",
    "December: 450 000 accounts\n",
    "\n",
    "Diagrammet visar då trenden i hur användarantalet förändras över tid – om det ökar, minskar eller står still.\n",
    "\n"
   ]
  },
  {
   "cell_type": "markdown",
   "metadata": {},
   "source": [
    "### Fråga 6:\n"
   ]
  },
  {
   "cell_type": "markdown",
   "metadata": {},
   "source": [
    "Lådagram, eller boxplot, används för att visa hur data är fördelad –  spridningen i en datamängd. Det hjälper att snabbt se:\n",
    "\n",
    "Lägsta värde (minimum)\n",
    "\n",
    "Första kvartilen (Q1)\n",
    "\n",
    "Medianen (Q2)\n",
    "\n",
    "Tredje kvartilen (Q3)\n",
    "\n",
    "Högsta värde (maximum)\n",
    "\n",
    "Eventuella outliers (extremvärden)\n",
    "\n",
    "Lådagram ska fungera bäst när man vill \n",
    "\n",
    "- Jämföra fördelningen av olika grupper.\n",
    "\n",
    "- Se hur symmetrisk eller skev en datamängd är.\n",
    "\n",
    "- Identifiera avvikande värden.\n",
    "\n",
    "- Få en tydlig överblick över hur spridda värdena är.\n",
    "\n"
   ]
  },
  {
   "cell_type": "markdown",
   "metadata": {},
   "source": [
    "### Fråga 7:\n"
   ]
  },
  {
   "cell_type": "markdown",
   "metadata": {},
   "source": [
    "Medelvikten = 3.5 kg\n",
    "\n",
    "Detta betyder att de flesta nyfödda väger underfär 3.5 kg\n",
    "\n",
    "Standardavvikelsen = 0.5 kg\n",
    "\n",
    "Det innebär att \n",
    "\n",
    "- Cirka 68 % väger mellan 3.0 kg och 4.0 kg (±1 standardavvikelse)\n",
    "\n",
    "- Cirka 95 % väger mellan 2.5 kg och 4.5 kg (±2 standardavvikelser)\n",
    "\n",
    "- Cirka 99.7 % väger mellan 2.0 kg och 5.0 kg (±3 standardavvikelser)\n",
    "\n",
    "\n",
    "\n"
   ]
  },
  {
   "cell_type": "code",
   "execution_count": null,
   "metadata": {},
   "outputs": [
    {
     "name": "stdout",
     "output_type": "stream",
     "text": [
      "Sannolikheten att ett barn väger över 4.5 kg är: 0.0228\n",
      "Sannolikheten att ett barn väger mindre än 3 kg är: 0.1587\n",
      "Förväntat antal barn som väger över 4.5 kg bland 1000 barn är: 22.75\n"
     ]
    }
   ],
   "source": [
    "from scipy.stats import norm\n",
    "\n",
    "medelvarde = 3.5\n",
    "standardavvikelse = 0.5\n",
    "\n",
    "# Sannolikheten att ett barn väger över 4.5 kg\n",
    "sannolikhet_over_4_5 = 1 - norm.cdf(4.5, medelvarde, standardavvikelse)\n",
    "print(f\"Sannolikheten att ett barn väger över 4.5 kg är: {sannolikhet_over_4_5:.4f}\")\n",
    "\n",
    "# Sannolikheten att ett barn väger mindre än 3 kg\n",
    "sannolikhet_under_3 = norm.cdf(3, medelvarde, standardavvikelse)\n",
    "print(f\"Sannolikheten att ett barn väger mindre än 3 kg är: {sannolikhet_under_3:.4f}\")\n",
    "\n",
    "# Förväntat antal barn över 4.5 kg bland 1000 barn\n",
    "antal_barn = 1000\n",
    "forvantat_antal_over_4_5 = sannolikhet_over_4_5 * antal_barn\n",
    "print(f\"Förväntat antal barn som väger över 4.5 kg bland {antal_barn} barn är: {forvantat_antal_over_4_5:.2f}\")"
   ]
  },
  {
   "cell_type": "markdown",
   "metadata": {},
   "source": [
    "Sannolikheten att ett barn väger över 4.5 kg är: 0.0228\n",
    "\n",
    "Sannolikheten att ett barn väger mindre än 3 kg är: 0.1587\n",
    "\n",
    "Förväntat antal barn som väger över 4.5 kg bland 1000 barn är: 22.75 (23 barn)\n",
    "\n"
   ]
  }
 ],
 "metadata": {
  "kernelspec": {
   "display_name": "base",
   "language": "python",
   "name": "python3"
  },
  "language_info": {
   "codemirror_mode": {
    "name": "ipython",
    "version": 3
   },
   "file_extension": ".py",
   "mimetype": "text/x-python",
   "name": "python",
   "nbconvert_exporter": "python",
   "pygments_lexer": "ipython3",
   "version": "3.12.7"
  }
 },
 "nbformat": 4,
 "nbformat_minor": 2
}
